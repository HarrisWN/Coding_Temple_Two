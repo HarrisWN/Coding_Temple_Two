{
 "cells": [
  {
   "cell_type": "code",
   "execution_count": 6,
   "metadata": {},
   "outputs": [
    {
     "name": "stdout",
     "output_type": "stream",
     "text": [
      "26\n"
     ]
    }
   ],
   "source": [
    "# SUM OF SMALLEST NUMBERS\n",
    "# Given a 2D ( nested ) list/array of size m * n, your task is to find the sum of the minimum values in each row.\n",
    "# For Example:\n",
    "# INPUT: [[ 1, 2, 3, 4, 5 ],[ 5, 6, 7, 8, 9 ],[ 20, 21, 34, 56, 100 ]]\n",
    "# OUTPUT:26\n",
    "# [ [ 1, 2, 3, 4, 5 ] # minimum value of row is 1\n",
    "# , [ 5, 6, 7, 8, 9 ] # minimum value of row is 5\n",
    "# , [ 20, 21, 34, 56, 100 ] # minimum value of row is 20\n",
    "# ]\n",
    "# So the function should return 26 because the sum of the minimums is 1 + 5 + 20 = 26.\n",
    "# Note: You will be always given non-empty list containing Positive values.\n",
    "# INPUT: [[ 7, 9, 8, 6, 2 ], [ 6, 3, 5, 4, 3 ], [ 5, 8, 7, 4, 5 ]]\n",
    "# OUTPUT: 9\n",
    "# INPUT [[ 11, 12, 14, 54 ], [ 67, 89, 90, 56 ], [ 7, 9, 4, 3 ], [ 9, 8, 6, 7 ]]\n",
    "# OUTPUT: 76\n",
    "\n",
    "#undersatnd \n",
    "#each list functions as a column, each value in the list is like a row\n",
    "# determine the min values in each row\n",
    "#sum those min values \n",
    "\n",
    "#plan\n",
    "#Min (INPUT [0])\n",
    "#for i in INPUT min[i] \n",
    "# create sum variable  s=0 add to s in loop\n",
    "\n",
    "#execute\n",
    "\n",
    "def sum_of_min(INPUT):\n",
    "    s=0\n",
    "    for i in INPUT:\n",
    "        s +=  min(i)\n",
    "    return s\n",
    "\n",
    "\n",
    "print(sum_of_min([[ 1, 2, 3, 4, 5 ],[ 5, 6, 7, 8, 9 ],[ 20, 21, 34, 56, 100 ]]))    \n",
    "\n",
    "\n"
   ]
  },
  {
   "cell_type": "code",
   "execution_count": null,
   "metadata": {},
   "outputs": [],
   "source": []
  }
 ],
 "metadata": {
  "kernelspec": {
   "display_name": "base",
   "language": "python",
   "name": "python3"
  },
  "language_info": {
   "codemirror_mode": {
    "name": "ipython",
    "version": 3
   },
   "file_extension": ".py",
   "mimetype": "text/x-python",
   "name": "python",
   "nbconvert_exporter": "python",
   "pygments_lexer": "ipython3",
   "version": "3.11.4"
  },
  "orig_nbformat": 4
 },
 "nbformat": 4,
 "nbformat_minor": 2
}
