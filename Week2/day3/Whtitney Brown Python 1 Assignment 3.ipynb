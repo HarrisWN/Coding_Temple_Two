{
 "cells": [
  {
   "attachments": {},
   "cell_type": "markdown",
   "metadata": {},
   "source": [
    "# Coding Temple's Data Analytics Program\n",
    "---\n",
    "## Python 1 Assignment 3\n",
    "---"
   ]
  },
  {
   "attachments": {},
   "cell_type": "markdown",
   "metadata": {},
   "source": [
    "### **Task 1: Build a Shopping Cart**\n",
    "**You can use either lists or dictionaries. The program should have the following capabilites:**\n",
    "* Takes a string as an input\n",
    "* Stores user input in a dictionary or list\n",
    "* Users should be able to:\n",
    "    * Add Items\n",
    "    * Delete Items\n",
    "    * See current shopping cart\n",
    "* The program should loop until user 'quits'\n",
    "* Upon quitting the program, print out all items in the user's list"
   ]
  },
  {
   "cell_type": "code",
   "execution_count": 18,
   "metadata": {},
   "outputs": [
    {
     "name": "stdout",
     "output_type": "stream",
     "text": [
      "{}\n",
      "shopping cart cleared\n",
      "{}\n"
     ]
    }
   ],
   "source": [
    "from IPython.display import clear_output\n",
    "\n",
    "# Ask the user 5 bits of input: Do you want to : Show/Add/Delete/clear or Quit?\n",
    "# YOUR CODE HERE\n",
    "\n",
    "my_cart = {}\n",
    "\n",
    "\n",
    "while True: \n",
    "    ask = input (\"What would you like to buy show/add/delete/clear or quit\")\n",
    "    if ask.lower() == \"show\": \n",
    "        print(my_cart)\n",
    "\n",
    "    elif ask.lower() == \"add\":\n",
    "        item = input('what would you like to add?')\n",
    "        quantity = input(\"quantity\")\n",
    "        my_cart[item] = quantity\n",
    "        print(f'{item} has been added to cart')\n",
    "        print(my_cart)\n",
    "        break\n",
    "    \n",
    "    elif ask.lower() == \"delete\":\n",
    "        please_delete = input(\"which item would you like to delete?\")\n",
    "        print(f'{please_delete} has been removed ')\n",
    "        del my_cart[please_delete]\n",
    "        \n",
    "\n",
    "    elif ask.lower() == \"clear\":\n",
    "        my_cart.clear()\n",
    "        print(\"shopping cart cleared\")\n",
    "\n",
    "\n",
    "    elif ask.lower() == \"quit\":\n",
    "        print(my_cart)\n",
    "        break\n",
    "\n",
    "    else:\n",
    "        print('please select one of the options')\n",
    "\n",
    "\n",
    "\n",
    "\n",
    "\n",
    "\n",
    "\n",
    "\n"
   ]
  },
  {
   "attachments": {},
   "cell_type": "markdown",
   "metadata": {},
   "source": [
    "### **Task 2: Create a Module and Import it**\n",
    "Create a Module in VS Code and import it into a Notebook. Use each of the functions you build in your module\n",
    "\n",
    "**Your module should have the following capabilities:**\n",
    "* Has a function to calculate the square footage of a house\n",
    "* Has a function to calculate the circumference of a circle\n",
    "* Has a function to change feet to inches"
   ]
  },
  {
   "cell_type": "code",
   "execution_count": 1,
   "metadata": {},
   "outputs": [
    {
     "name": "stdout",
     "output_type": "stream",
     "text": [
      "25\n",
      "157.0\n",
      "540\n"
     ]
    }
   ],
   "source": [
    "import python_1_assignment_3_module\n",
    "\n",
    "house =  python_1_assignment_3_module.square_footage_calculator(5,5)\n",
    "\n",
    "\n",
    "ball = python_1_assignment_3_module.calculate_circumference(25)\n",
    "\n",
    "\n",
    "distance = python_1_assignment_3_module.distance_conversion(45)\n",
    "\n",
    "print(house)\n",
    "print(ball)\n",
    "print(distance)\n",
    "\n",
    "\n",
    "\n",
    "\n"
   ]
  },
  {
   "attachments": {},
   "cell_type": "markdown",
   "metadata": {},
   "source": [
    "### **Task 3.1: Lists**\n",
    "Create 4 lists. Two of these lists should be keys, two of these lists should be values"
   ]
  },
  {
   "cell_type": "code",
   "execution_count": 1,
   "metadata": {},
   "outputs": [
    {
     "name": "stdout",
     "output_type": "stream",
     "text": [
      "list of key:  ['detroit', 'atlanta', 'hartford', 'palo alto']\n",
      "list of v : ['michigan', 'georgia', 'connecticut', 'california']\n",
      "{'detroit': 'michigan', 'atlanta': 'michigan', 'hartford': 'michigan', 'palo alto': 'michigan'}\n",
      "{'north': 'dry', 'south': 'dry', 'east': 'dry', 'west': 'dry'}\n"
     ]
    }
   ],
   "source": [
    "key1 = [\"detroit\", \"atlanta\", \"hartford\", \"palo alto\"]\n",
    "values1 = [\"michigan\", \"georgia\", \"connecticut\", \"california\"]\n",
    "\n",
    "print(\"list of key: \", key1)\n",
    "print(\"list of v :\", values1)\n",
    "\n",
    "\n",
    "key2 = [\"north\", \"south\", \"east\",\"west\"]\n",
    "values2 = [\"cold\", \"hot\", \"humid\", \"dry\"]\n",
    "\n"
   ]
  },
  {
   "attachments": {},
   "cell_type": "markdown",
   "metadata": {},
   "source": [
    "### **Task 3.2: Create a function that converts two lists into a dictionary, then merges two dictionaries into one.**\n",
    "\n",
    "Using your 4 lists, create a function which combines the keys lists with the values lists into a dictionary, then merges and returns the two dictionaries together."
   ]
  },
  {
   "cell_type": "code",
   "execution_count": 7,
   "metadata": {},
   "outputs": [
    {
     "name": "stdout",
     "output_type": "stream",
     "text": [
      "{'detroit': 'michigan', 'atlanta': 'georgia', 'hartford': 'connecticut', 'palo alto': 'california', 'north': 'cold', 'south': 'hot', 'east': 'humid', 'west': 'dry'}\n"
     ]
    }
   ],
   "source": [
    "def combine_dict(key1,key2,values1,values2):\n",
    "    dict1={key:value for key, value in zip(key1, values1)}\n",
    "    dict2={key:value for key, value in zip(key2, values2)}\n",
    "\n",
    "    dict3 = dict1 | dict2\n",
    "    return dict3\n",
    "\n",
    "print (combine_dict(key1,key2,values1,values2))\n"
   ]
  },
  {
   "cell_type": "code",
   "execution_count": null,
   "metadata": {},
   "outputs": [],
   "source": []
  }
 ],
 "metadata": {
  "kernelspec": {
   "display_name": "Python 3",
   "language": "python",
   "name": "python3"
  },
  "language_info": {
   "codemirror_mode": {
    "name": "ipython",
    "version": 3
   },
   "file_extension": ".py",
   "mimetype": "text/x-python",
   "name": "python",
   "nbconvert_exporter": "python",
   "pygments_lexer": "ipython3",
   "version": "3.11.4"
  },
  "orig_nbformat": 4,
  "vscode": {
   "interpreter": {
    "hash": "26de051ba29f2982a8de78e945f0abaf191376122a1563185a90213a26c5da77"
   }
  }
 },
 "nbformat": 4,
 "nbformat_minor": 2
}
