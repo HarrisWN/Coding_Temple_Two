{
  "cells": [
    {
      "attachments": {},
      "cell_type": "markdown",
      "metadata": {
        "id": "9bJtKniLrs8X"
      },
      "source": [
        "# Coding Temple's Data Analytics Course\n",
        "---\n",
        "## Python I: Functions, Scoping, Data Collections 1 & List Comprehensions\n",
        "---"
      ]
    },
    {
      "attachments": {},
      "cell_type": "markdown",
      "metadata": {
        "id": "qbED-38grs8a"
      },
      "source": [
        "### Tasks Today:\n",
        "\n",
        "<i>Monday Additions (or, and ... if statements)</i>\n",
        "\n",
        "1) String Manipulation <br>\n",
        " &nbsp;&nbsp;&nbsp;&nbsp; a) strip() <br>\n",
        " &nbsp;&nbsp;&nbsp;&nbsp; b) title() <br>\n",
        "2) Working With Lists <br>\n",
        " &nbsp;&nbsp;&nbsp;&nbsp; a) min() <br>\n",
        " &nbsp;&nbsp;&nbsp;&nbsp; b) max() <br>\n",
        " &nbsp;&nbsp;&nbsp;&nbsp; c) sum() <br>\n",
        " &nbsp;&nbsp;&nbsp;&nbsp; d) sort() <br>\n",
        " &nbsp;&nbsp;&nbsp;&nbsp; e) Copying a List <br>\n",
        " &nbsp;&nbsp;&nbsp;&nbsp; f) 'in' keyword <br>\n",
        " &nbsp;&nbsp;&nbsp;&nbsp; g) 'not in' keyword <br>\n",
        " &nbsp;&nbsp;&nbsp;&nbsp; i) Checking an Empty List <br>\n",
        " &nbsp;&nbsp;&nbsp;&nbsp; j) Removing Instances with a Loop <br>\n",
        "3) List Comprehensions <br>\n",
        "4) Tuples <br>\n",
        " &nbsp;&nbsp;&nbsp;&nbsp; a) sorted() <br>\n",
        "5) Functions <br>\n",
        " &nbsp;&nbsp;&nbsp;&nbsp; a) User-Defined vs. Built-In Functions <br>\n",
        " &nbsp;&nbsp;&nbsp;&nbsp; b) Accepting Parameters <br>\n",
        " &nbsp;&nbsp;&nbsp;&nbsp; c) Default Parameters <br>\n",
        " &nbsp;&nbsp;&nbsp;&nbsp; d) Making an Argument Optional <br>\n",
        " &nbsp;&nbsp;&nbsp;&nbsp; e) Keyword Arguments <br>\n",
        " &nbsp;&nbsp;&nbsp;&nbsp; f) Returning Values <br>\n",
        " &nbsp;&nbsp;&nbsp;&nbsp; g) *args <br>\n",
        " &nbsp;&nbsp;&nbsp;&nbsp; h) Docstring <br>\n",
        " &nbsp;&nbsp;&nbsp;&nbsp; i) Using a User Function in a Loop <br>\n",
        "6) Scope"
      ]
    },
    {
      "attachments": {},
      "cell_type": "markdown",
      "metadata": {
        "id": "WaEiK5Mxrs8b"
      },
      "source": [
        "### String Manipulation"
      ]
    },
    {
      "attachments": {},
      "cell_type": "markdown",
      "metadata": {
        "id": "oAHRIMwirs8c"
      },
      "source": [
        "##### .lstrip()"
      ]
    },
    {
      "cell_type": "code",
      "execution_count": 2,
      "metadata": {
        "id": "67XdgYVYrs8c"
      },
      "outputs": [
        {
          "name": "stdout",
          "output_type": "stream",
          "text": [
            "whb\n"
          ]
        }
      ],
      "source": [
        "name = \"           hwhb\"\n",
        "print(name.lstrip(\" \"\"h\"))"
      ]
    },
    {
      "cell_type": "code",
      "execution_count": null,
      "metadata": {},
      "outputs": [],
      "source": []
    },
    {
      "attachments": {},
      "cell_type": "markdown",
      "metadata": {
        "id": "SqdqgTi7rs8d"
      },
      "source": [
        "##### .rstrip()"
      ]
    },
    {
      "cell_type": "code",
      "execution_count": 3,
      "metadata": {
        "id": "W4KfZlUdrs8e"
      },
      "outputs": [
        {
          "name": "stdout",
          "output_type": "stream",
          "text": [
            "Bob Ross    k\n"
          ]
        }
      ],
      "source": [
        "name = 'Bob Ross    k'\n",
        "print(name.rstrip(\" \"\"th\"))"
      ]
    },
    {
      "attachments": {},
      "cell_type": "markdown",
      "metadata": {
        "id": "gnyAnkkLrs8e"
      },
      "source": [
        "##### .strip()"
      ]
    },
    {
      "cell_type": "code",
      "execution_count": 4,
      "metadata": {
        "id": "ee-X-fZurs8f"
      },
      "outputs": [
        {
          "name": "stdout",
          "output_type": "stream",
          "text": [
            "wh\n"
          ]
        }
      ],
      "source": [
        "name = \"     whb      b\"\n",
        "print(name.strip(\" \"\"b\"))"
      ]
    },
    {
      "attachments": {},
      "cell_type": "markdown",
      "metadata": {},
      "source": [
        "#### .upper()\n",
        "#### .lower()"
      ]
    },
    {
      "cell_type": "code",
      "execution_count": 8,
      "metadata": {},
      "outputs": [
        {
          "name": "stdout",
          "output_type": "stream",
          "text": [
            "JOE BIDEN\n"
          ]
        }
      ],
      "source": [
        "president = 'joe biden'\n",
        "upper_pres = president.upper()\n",
        "print (upper_pres)"
      ]
    },
    {
      "cell_type": "code",
      "execution_count": 9,
      "metadata": {},
      "outputs": [
        {
          "data": {
            "text/plain": [
              "'Joe Biden'"
            ]
          },
          "execution_count": 9,
          "metadata": {},
          "output_type": "execute_result"
        }
      ],
      "source": [
        "president.title()"
      ]
    },
    {
      "attachments": {},
      "cell_type": "markdown",
      "metadata": {
        "id": "MiAFvZdPrs8f"
      },
      "source": [
        "##### .title()"
      ]
    },
    {
      "cell_type": "code",
      "execution_count": null,
      "metadata": {
        "id": "6d21S6C6rs8f"
      },
      "outputs": [],
      "source": []
    },
    {
      "attachments": {},
      "cell_type": "markdown",
      "metadata": {
        "id": "D80meSR5rs8g"
      },
      "source": [
        "### String Exercise <br>\n",
        "<p>Strip all white space and capitalize every name in the list given</p>"
      ]
    },
    {
      "cell_type": "code",
      "execution_count": 13,
      "metadata": {
        "id": "wPiqY8qFrs8g"
      },
      "outputs": [
        {
          "name": "stdout",
          "output_type": "stream",
          "text": [
            "['Connor', 'Max', 'Evan', 'Jordan']\n",
            "Connor\n",
            "Max\n",
            "Evan\n",
            "Jordan\n",
            "['Connor', 'Max', 'Evan', 'Jordan']\n"
          ]
        },
        {
          "data": {
            "text/plain": [
              "'Connor'"
            ]
          },
          "execution_count": 13,
          "metadata": {},
          "output_type": "execute_result"
        }
      ],
      "source": [
        "names = ['    coNNor', 'max', ' EVan ', 'JORDAN']\n",
        "# HINT: You will need to use a for loop for iteration\n",
        "names_list= []\n",
        "for name in names:\n",
        "    names_list.append(name.strip().title())\n",
        "\n",
        "print(names_list)\n",
        "for name in names_list:\n",
        "    print(name)\n",
        "\n",
        "print(names_list)\n",
        "names_list[0]\n",
        "\n",
        "    "
      ]
    },
    {
      "attachments": {},
      "cell_type": "markdown",
      "metadata": {
        "id": "OaW8hdDnrs8g"
      },
      "source": [
        "### Working With Lists"
      ]
    },
    {
      "attachments": {},
      "cell_type": "markdown",
      "metadata": {
        "id": "lsl3saTtrs8g"
      },
      "source": [
        "##### min()"
      ]
    },
    {
      "cell_type": "code",
      "execution_count": 14,
      "metadata": {
        "id": "DfUyTjiUrs8h"
      },
      "outputs": [
        {
          "name": "stdout",
          "output_type": "stream",
          "text": [
            "1\n"
          ]
        }
      ],
      "source": [
        "num_list = [1,2,3,4,5]\n",
        "print(min(num_list))"
      ]
    },
    {
      "cell_type": "markdown",
      "metadata": {},
      "source": []
    },
    {
      "attachments": {},
      "cell_type": "markdown",
      "metadata": {
        "id": "56woj1myrs8h"
      },
      "source": [
        "##### max()"
      ]
    },
    {
      "cell_type": "code",
      "execution_count": 15,
      "metadata": {
        "id": "4ifb__khrs8h"
      },
      "outputs": [
        {
          "name": "stdout",
          "output_type": "stream",
          "text": [
            "5\n"
          ]
        }
      ],
      "source": [
        "print(max(num_list))"
      ]
    },
    {
      "attachments": {},
      "cell_type": "markdown",
      "metadata": {
        "id": "Q_LhnHozrs8h"
      },
      "source": [
        "##### sum()"
      ]
    },
    {
      "cell_type": "code",
      "execution_count": 16,
      "metadata": {
        "id": "MNBLfI57rs8i"
      },
      "outputs": [
        {
          "name": "stdout",
          "output_type": "stream",
          "text": [
            "15\n"
          ]
        }
      ],
      "source": [
        "print(sum(num_list))"
      ]
    },
    {
      "attachments": {},
      "cell_type": "markdown",
      "metadata": {
        "id": "Pmkxsqcwrs8i"
      },
      "source": [
        "##### sorted()"
      ]
    },
    {
      "cell_type": "code",
      "execution_count": 19,
      "metadata": {
        "id": "_LpP0pYlrs8i"
      },
      "outputs": [
        {
          "name": "stdout",
          "output_type": "stream",
          "text": [
            "[1, 2, 3, 4, 5]\n",
            "before sorting: [1, 2, 3, 4, 5]\n",
            "After sorting: [1, 2, 3, 4, 5]\n"
          ]
        }
      ],
      "source": [
        "#sorted(list_object)\n",
        "print(num_list)\n",
        "\n",
        "sorted_nums = sorted(num_list)\n",
        "\n",
        "\n",
        "print(f\"before sorting: {num_list}\")\n",
        "print(f\"After sorting: {sorted_nums}\")\n"
      ]
    },
    {
      "attachments": {},
      "cell_type": "markdown",
      "metadata": {
        "id": "WUUKnCRHrs8i"
      },
      "source": [
        "##### .sort() <br>\n",
        "<p>Difference between sort and sorted, is that sorted doesn't change original list it returns a copy, while .sort changes the original list</p>"
      ]
    },
    {
      "cell_type": "code",
      "execution_count": 20,
      "metadata": {
        "id": "8easNUqGrs8j"
      },
      "outputs": [
        {
          "data": {
            "text/plain": [
              "[1, 2, 3, 4, 5]"
            ]
          },
          "execution_count": 20,
          "metadata": {},
          "output_type": "execute_result"
        }
      ],
      "source": [
        "#list.sort()\n",
        "#function associated with list function\n",
        "\n",
        "num_list.sort()\n",
        "num_list"
      ]
    },
    {
      "attachments": {},
      "cell_type": "markdown",
      "metadata": {
        "id": "Zk7lrB7qrs8j"
      },
      "source": [
        "##### Copying a List"
      ]
    },
    {
      "cell_type": "code",
      "execution_count": 21,
      "metadata": {
        "id": "XPnSFoGMrs8j"
      },
      "outputs": [
        {
          "name": "stdout",
          "output_type": "stream",
          "text": [
            "[1, 2, 3, 4, 5]\n",
            "[1, 2, 3, 4, 5]\n"
          ]
        }
      ],
      "source": [
        "# [:]copies a list, does not alter oritinal list at all\n",
        "l_1=num_list[:]\n",
        "print(l_1)\n",
        "print(num_list)"
      ]
    },
    {
      "attachments": {},
      "cell_type": "markdown",
      "metadata": {
        "id": "RxI0RzOgrs8j"
      },
      "source": [
        "##### 'in' keyword"
      ]
    },
    {
      "cell_type": "code",
      "execution_count": 24,
      "metadata": {
        "id": "kodTed97rs8j"
      },
      "outputs": [
        {
          "name": "stdout",
          "output_type": "stream",
          "text": [
            "Whitney is a student!\n"
          ]
        }
      ],
      "source": [
        "ct_teachers = [\"Alex\", \"Katie\", \"Sarah\", \"Shay\", \"Kevin\"]\n",
        " \n",
        "if \"whitney\" in ct_teachers:\n",
        "    print(\"Whitney is now an Instructor\")\n",
        "else:\n",
        "    print(\"Whitney is a student!\")"
      ]
    },
    {
      "cell_type": "code",
      "execution_count": null,
      "metadata": {},
      "outputs": [],
      "source": []
    },
    {
      "attachments": {},
      "cell_type": "markdown",
      "metadata": {
        "id": "FxrCx1KNrs8j"
      },
      "source": [
        "##### 'not in' keyword"
      ]
    },
    {
      "cell_type": "code",
      "execution_count": 25,
      "metadata": {
        "id": "xNtSNQiJrs8j"
      },
      "outputs": [
        {
          "name": "stdout",
          "output_type": "stream",
          "text": [
            "Whitney is a student!\n"
          ]
        }
      ],
      "source": [
        "ct_teachers = [\"Alex\", \"Katie\", \"Sarah\", \"Shay\", \"Kevin\"]\n",
        " \n",
        "if \"whitney\" not in ct_teachers:\n",
        "    print(\"Whitney is a student!\")\n"
      ]
    },
    {
      "attachments": {},
      "cell_type": "markdown",
      "metadata": {
        "id": "BUZcIm0jrs8k"
      },
      "source": [
        "##### Checking an Empty List"
      ]
    },
    {
      "cell_type": "code",
      "execution_count": null,
      "metadata": {
        "id": "0hRGfavzrs8k"
      },
      "outputs": [],
      "source": [
        "l_2 = []\n",
        "\n",
        "if not l_2:\n",
        "    print()"
      ]
    },
    {
      "cell_type": "code",
      "execution_count": null,
      "metadata": {},
      "outputs": [],
      "source": []
    },
    {
      "attachments": {},
      "cell_type": "markdown",
      "metadata": {
        "id": "sYkofVKHrs8k"
      },
      "source": [
        "##### Removing Instances with a Loop"
      ]
    },
    {
      "cell_type": "code",
      "execution_count": 26,
      "metadata": {
        "id": "9enOHbb4rs8k"
      },
      "outputs": [
        {
          "name": "stdout",
          "output_type": "stream",
          "text": [
            "['Connor', 'Joel']\n"
          ]
        }
      ],
      "source": [
        "#while loop, remove statement or method\n",
        "\n",
        "names = [\"Connor\", \"Joel\", \"Evan\", \"Evan\"]\n",
        "\n",
        "while \"Evan\" in names:\n",
        "    names.remove(\"Evan\")\n",
        "print(names)\n",
        "\n",
        "for name in names:\n",
        "    if name == \"Evan\":\n",
        "        names.remove(Evan)\n",
        "print(names)\n"
      ]
    },
    {
      "attachments": {},
      "cell_type": "markdown",
      "metadata": {
        "id": "S-x8E0cDrs8k"
      },
      "source": [
        "### List Exercise <br>\n",
        "<p>Remove all duplicates<br><b>Extra: Create a program that will remove any duplicates from a given list</b></p>"
      ]
    },
    {
      "cell_type": "code",
      "execution_count": 33,
      "metadata": {
        "id": "BlrVsVUprs8k"
      },
      "outputs": [
        {
          "ename": "SyntaxError",
          "evalue": "expected ':' (3816801526.py, line 6)",
          "output_type": "error",
          "traceback": [
            "\u001b[0;36m  Cell \u001b[0;32mIn[33], line 6\u001b[0;36m\u001b[0m\n\u001b[0;31m    def solution(list)\u001b[0m\n\u001b[0m                      ^\u001b[0m\n\u001b[0;31mSyntaxError\u001b[0m\u001b[0;31m:\u001b[0m expected ':'\n"
          ]
        }
      ],
      "source": [
        "names = ['connor', 'connor', 'bob', 'connor', 'evan', 'max', 'evan', 2, 2, 2, 3, 3, 4, 'bob', 'kevin']\n",
        "# Hint 1: You will need an append\n",
        "# Hint 2: Using an empty list will make this easier!\n",
        "\n",
        "\n",
        "def solution(list)\n",
        "    names_dedup = []\n",
        "\n",
        "\n",
        "    for name in list:\n",
        "        if name not in names_dedup:\n",
        "            names_dedup.append(name)\n",
        "    return names_dedup\n",
        "\n",
        "print(solution(names)"
      ]
    },
    {
      "attachments": {},
      "cell_type": "markdown",
      "metadata": {
        "id": "6Ci7F4P2rs8k"
      },
      "source": [
        "### List Comprehensions <br>\n",
        "<p>Creating a quickly generated list to work with<br>*result*  = [*transform*    *iteration*         *filter*     ]</p>"
      ]
    },
    {
      "attachments": {},
      "cell_type": "markdown",
      "metadata": {
        "id": "ZnDqczhXrs8l"
      },
      "source": [
        "##### In a list comprehension we have a few pieces:\n",
        "1. The first is the counter/ variable - IN this the variable is x\n",
        "2. then we have a transform for the variable\n",
        "3. The finale part of a list comp is called the condition\n",
        "\n",
        "```python\n",
        "    [variable, transform, condition]\n",
        "```"
      ]
    },
    {
      "cell_type": "code",
      "execution_count": null,
      "metadata": {
        "id": "2fHFPjOOrs8l"
      },
      "outputs": [],
      "source": [
        "Number comprehension\n",
        "with a regular loop:\n",
        "nums = []\n",
        "\n",
        "for val in range(200):\n",
        "    nums.append(val)\n",
        "print(nums)\n",
        "\n",
        "#in list comprehension we ahve \n",
        "#the counter/variable\n",
        "#next step is an interator. for loop\n",
        "#conditional statements\n",
        "#num_comp=[val #apply transformation here ex. square for val in range(200)]\n",
        "          \n",
        "num_comp = [value **2 for val in range(200 if val % 2==0)]\n",
        "print(nums_comp)\n",
        "\n",
        "\n"
      ]
    },
    {
      "cell_type": "code",
      "execution_count": 35,
      "metadata": {},
      "outputs": [
        {
          "ename": "IndentationError",
          "evalue": "unexpected indent (3594217898.py, line 2)",
          "output_type": "error",
          "traceback": [
            "\u001b[0;36m  Cell \u001b[0;32mIn[35], line 2\u001b[0;36m\u001b[0m\n\u001b[0;31m    for item in cart:\u001b[0m\n\u001b[0m    ^\u001b[0m\n\u001b[0;31mIndentationError\u001b[0m\u001b[0;31m:\u001b[0m unexpected indent\n"
          ]
        }
      ],
      "source": []
    },
    {
      "cell_type": "code",
      "execution_count": 34,
      "metadata": {},
      "outputs": [
        {
          "ename": "NameError",
          "evalue": "name 'cart' is not defined",
          "output_type": "error",
          "traceback": [
            "\u001b[0;31m---------------------------------------------------------------------------\u001b[0m",
            "\u001b[0;31mNameError\u001b[0m                                 Traceback (most recent call last)",
            "\u001b[1;32m/Users/burnesbrown1/Documents/Coding Temple/Coding_Temple_Two/Week2/day2/Python I Day 2.ipynb Cell 48\u001b[0m line \u001b[0;36m1\n\u001b[0;32m----> <a href='vscode-notebook-cell:/Users/burnesbrown1/Documents/Coding%20Temple/Coding_Temple_Two/Week2/day2/Python%20I%20Day%202.ipynb#X61sZmlsZQ%3D%3D?line=0'>1</a>\u001b[0m cashier_3\u001b[39m=\u001b[39m[item \u001b[39mfor\u001b[39;00m item \u001b[39min\u001b[39;00m cart \u001b[39mif\u001b[39;00m item \u001b[39m%\u001b[39m\u001b[39m2\u001b[39m \u001b[39m==\u001b[39m \u001b[39m0\u001b[39m]\n",
            "\u001b[0;31mNameError\u001b[0m: name 'cart' is not defined"
          ]
        }
      ],
      "source": []
    },
    {
      "attachments": {},
      "cell_type": "markdown",
      "metadata": {
        "id": "3ls5g5A2rs8l"
      },
      "source": [
        "There are a few benefits to using List comprehensions. The most obvious would be that we now have shorter code to work with instead of using 3+ lines of code in the for loop variant.\n",
        "\n",
        "Another is an added benefit to memory usage. Since the list's memory is allocated first before adding elements to it, we don't have to resize the list once we add elements to it.\n",
        "\n",
        "Lastly, list comprehensions are considered the \"pythonic\" way to write code by the PEP8 standards (Python Style Guide)"
      ]
    },
    {
      "cell_type": "code",
      "execution_count": null,
      "metadata": {
        "id": "CPIujsPPrs8l"
      },
      "outputs": [],
      "source": []
    },
    {
      "cell_type": "code",
      "execution_count": null,
      "metadata": {
        "id": "DDWwxsJhrs8l"
      },
      "outputs": [],
      "source": [
        "#string comprehension\n",
        "names=[\"connor\",\"max\",\" Evan\", \"Rob\"]\n",
        "\n",
        "#For loop versino:\n",
        "#I want to grab each of the first letters of each name in the list\n",
        "first_char[]\n",
        "\n",
        "for name in names:\n",
        "    first_char.append(name[0])\n",
        "\n",
        "print(first_char)\n",
        "\n",
        "n = [name[0] for name in names]\n",
        "print(n)\n"
      ]
    },
    {
      "cell_type": "code",
      "execution_count": 36,
      "metadata": {
        "id": "afJhTL0Ars8m"
      },
      "outputs": [
        {
          "ename": "TypeError",
          "evalue": "'int' object is not subscriptable",
          "output_type": "error",
          "traceback": [
            "\u001b[0;31m---------------------------------------------------------------------------\u001b[0m",
            "\u001b[0;31mTypeError\u001b[0m                                 Traceback (most recent call last)",
            "\u001b[1;32m/Users/burnesbrown1/Documents/Coding Temple/Coding_Temple_Two/Week2/day2/Python I Day 2.ipynb Cell 52\u001b[0m line \u001b[0;36m7\n\u001b[1;32m      <a href='vscode-notebook-cell:/Users/burnesbrown1/Documents/Coding%20Temple/Coding_Temple_Two/Week2/day2/Python%20I%20Day%202.ipynb#X65sZmlsZQ%3D%3D?line=4'>5</a>\u001b[0m c_names_reg \u001b[39m=\u001b[39m []\n\u001b[1;32m      <a href='vscode-notebook-cell:/Users/burnesbrown1/Documents/Coding%20Temple/Coding_Temple_Two/Week2/day2/Python%20I%20Day%202.ipynb#X65sZmlsZQ%3D%3D?line=5'>6</a>\u001b[0m \u001b[39mfor\u001b[39;00m first_name \u001b[39min\u001b[39;00m names:\n\u001b[0;32m----> <a href='vscode-notebook-cell:/Users/burnesbrown1/Documents/Coding%20Temple/Coding_Temple_Two/Week2/day2/Python%20I%20Day%202.ipynb#X65sZmlsZQ%3D%3D?line=6'>7</a>\u001b[0m   \u001b[39mif\u001b[39;00m first_name[\u001b[39m0\u001b[39;49m] \u001b[39m==\u001b[39m \u001b[39m\"\u001b[39m\u001b[39mc\u001b[39m\u001b[39m\"\u001b[39m:\n\u001b[1;32m      <a href='vscode-notebook-cell:/Users/burnesbrown1/Documents/Coding%20Temple/Coding_Temple_Two/Week2/day2/Python%20I%20Day%202.ipynb#X65sZmlsZQ%3D%3D?line=7'>8</a>\u001b[0m       c_names_reg\u001b[39m.\u001b[39mappend(first_name)\n\u001b[1;32m      <a href='vscode-notebook-cell:/Users/burnesbrown1/Documents/Coding%20Temple/Coding_Temple_Two/Week2/day2/Python%20I%20Day%202.ipynb#X65sZmlsZQ%3D%3D?line=8'>9</a>\u001b[0m \u001b[39mprint\u001b[39m(c_names_reg)\n",
            "\u001b[0;31mTypeError\u001b[0m: 'int' object is not subscriptable"
          ]
        }
      ],
      "source": [
        "  #using the \"if\" statement\n",
        "# grab each name if it starts with the letter \"c\"  \n",
        "\n",
        "#loop\n",
        "c_names_reg = []\n",
        "for first_name in names:\n",
        "    if first_name[0] == \"C\":\n",
        "        c_names_reg.append(first_name)\n",
        "print(c_names_reg)\n",
        "\n",
        "c_names_comp = [x for x in names if x[0].lower() == \"c\"]\n",
        "print(c_names_comp)"
      ]
    },
    {
      "cell_type": "code",
      "execution_count": null,
      "metadata": {
        "id": "QhyfY60Lrs8m"
      },
      "outputs": [],
      "source": []
    },
    {
      "attachments": {},
      "cell_type": "markdown",
      "metadata": {
        "id": "l0OZFm-nrs8m"
      },
      "source": [
        "### Tuples <br>\n",
        "<p><b>Defined as an immutable list</b></p><br>Seperated by commas using parenthesis"
      ]
    },
    {
      "cell_type": "code",
      "execution_count": 39,
      "metadata": {
        "id": "qzrkcZvArs8m"
      },
      "outputs": [
        {
          "name": "stdout",
          "output_type": "stream",
          "text": [
            "<class 'tuple'>\n",
            "<class 'tuple'>\n",
            "1\n",
            "2\n",
            "3\n",
            "1\n",
            "2\n",
            "3\n"
          ]
        }
      ],
      "source": [
        "tup_1 = 1,2,3 #1st way to create tuple\n",
        "tup_2 = (1,2,3) #2nd way to create tuple\n",
        "\n",
        "print(type(tup_1))\n",
        "print(type(tup_2))\n",
        "\n",
        "\n",
        "for number in tup_1:\n",
        "    print(number)\n",
        "\n",
        "\n",
        "for number in range (len(tup_2)):\n",
        "    print(tup_2[number])\n"
      ]
    },
    {
      "attachments": {},
      "cell_type": "markdown",
      "metadata": {
        "id": "HyW7twHCrs8m"
      },
      "source": [
        "##### sorted()"
      ]
    },
    {
      "cell_type": "code",
      "execution_count": null,
      "metadata": {
        "id": "806UVJgFrs8m"
      },
      "outputs": [],
      "source": []
    },
    {
      "attachments": {},
      "cell_type": "markdown",
      "metadata": {
        "id": "obuFNiIErs8m"
      },
      "source": [
        "##### Adding values to a Tuple"
      ]
    },
    {
      "cell_type": "code",
      "execution_count": 40,
      "metadata": {
        "id": "ZPkUYr2Trs8m"
      },
      "outputs": [
        {
          "name": "stdout",
          "output_type": "stream",
          "text": [
            "(1, 2, 3)\n",
            "(1, 2, 3, 5)\n"
          ]
        }
      ],
      "source": [
        "print(tup_1)\n",
        "tup_1=tup_1 + (5,)\n",
        "print(tup_1)"
      ]
    },
    {
      "attachments": {},
      "cell_type": "markdown",
      "metadata": {
        "id": "QX0j43L6rs8m"
      },
      "source": [
        "## Functions"
      ]
    },
    {
      "attachments": {},
      "cell_type": "markdown",
      "metadata": {
        "id": "RDYcwCvVrs8n"
      },
      "source": [
        "##### User-Defined vs. Built-In Functions"
      ]
    },
    {
      "cell_type": "code",
      "execution_count": 43,
      "metadata": {
        "id": "z6z8tJiqrs8n"
      },
      "outputs": [
        {
          "name": "stdout",
          "output_type": "stream",
          "text": [
            "Hello,World!\n"
          ]
        }
      ],
      "source": [
        "#1 DEF tells python i am going to DEFINE a funciton here:\n",
        "#2 function name: after we use keyword we give life to function by naming it\n",
        "#3 invoking parenthesis are used aftere a function call and after the naming function. Inside them, go any parameters we want to take into account in our fucntisno\n",
        "#parameters are a fancy work for variables\n",
        "\n",
        "#user defined function\n",
        "def say_hello():\n",
        "    return \"Hello,World!\"\n",
        "\n",
        "#print using invoking function\n",
        "print(say_hello())\n"
      ]
    },
    {
      "attachments": {},
      "cell_type": "markdown",
      "metadata": {
        "id": "3EK6Bb7Xrs8n"
      },
      "source": [
        "##### Accepting Parameters"
      ]
    },
    {
      "cell_type": "code",
      "execution_count": 46,
      "metadata": {
        "id": "NkgHjPLRrs8n"
      },
      "outputs": [
        {
          "name": "stdout",
          "output_type": "stream",
          "text": [
            "Hello whitney, Brown\n"
          ]
        }
      ],
      "source": [
        "#order matters\n",
        "\n",
        "def print_full_name(first_name, last_name):\n",
        "    return f\"Hello {first_name}, {last_name}\"\n",
        "print(print_full_name(\"whitney\", \"Brown\"))"
      ]
    },
    {
      "attachments": {},
      "cell_type": "markdown",
      "metadata": {
        "id": "pZtz8D3ors8n"
      },
      "source": [
        "##### Default Parameters"
      ]
    },
    {
      "cell_type": "code",
      "execution_count": 49,
      "metadata": {
        "id": "mqOXoR2Zrs8n"
      },
      "outputs": [
        {
          "name": "stdout",
          "output_type": "stream",
          "text": [
            "The name is ...007...James007\n"
          ]
        }
      ],
      "source": [
        "def print_agent_name(first_name,last_name = \"Bond\"):\n",
        "    return f\"The name is ...{last_name}...{first_name}{last_name}\"\n",
        "\n",
        "print(print_agent_name(\"James\", \"007\"))"
      ]
    },
    {
      "attachments": {},
      "cell_type": "markdown",
      "metadata": {
        "id": "4OlHa3j3rs8n"
      },
      "source": [
        "##### Making an Argument Optional"
      ]
    },
    {
      "cell_type": "code",
      "execution_count": 52,
      "metadata": {
        "id": "v4IqqRW8rs8n"
      },
      "outputs": [
        {
          "name": "stdout",
          "output_type": "stream",
          "text": [
            "WOW you are 40 years old\n"
          ]
        }
      ],
      "source": [
        "#type casting\n",
        "#specificy to the function what the function what type of data will be input\n",
        "\n",
        "def print_age(age:int):\n",
        "    age = int(age)\n",
        "    return f\"WOW you are {age} years old\"\n",
        "print(print_age(\"40\"))\n",
        "\n"
      ]
    },
    {
      "attachments": {},
      "cell_type": "markdown",
      "metadata": {
        "id": "sJvg1qE3rs8n"
      },
      "source": [
        "##### Keyword Arguments"
      ]
    },
    {
      "cell_type": "code",
      "execution_count": 54,
      "metadata": {
        "id": "IazE0eWYrs8o"
      },
      "outputs": [
        {
          "ename": "SyntaxError",
          "evalue": "expected ':' (3846928730.py, line 1)",
          "output_type": "error",
          "traceback": [
            "\u001b[0;36m  Cell \u001b[0;32mIn[54], line 1\u001b[0;36m\u001b[0m\n\u001b[0;31m    def print_horse_name(first, middle = \" \", last= \"Ed\")\u001b[0m\n\u001b[0m                                                         ^\u001b[0m\n\u001b[0;31mSyntaxError\u001b[0m\u001b[0;31m:\u001b[0m expected ':'\n"
          ]
        }
      ],
      "source": [
        "def print_horse_name(first, middle = \" \", last= \"Ed\")\n",
        "    return f\"Hello{first}{middle}{last} good luck in the race today\"\n",
        "print(print_horse_name(\"Mr.\"))"
      ]
    },
    {
      "attachments": {},
      "cell_type": "markdown",
      "metadata": {
        "id": "YVE6ZfCtrs8o"
      },
      "source": [
        "# Creating a start, stop, step function"
      ]
    },
    {
      "cell_type": "code",
      "execution_count": 59,
      "metadata": {},
      "outputs": [],
      "source": [
        "def my_range(stop:int, start:int=0, step:int=1):\n",
        "    while start < stop:\n",
        "        start += step\n",
        "my_range(20,1)"
      ]
    },
    {
      "cell_type": "code",
      "execution_count": 57,
      "metadata": {
        "id": "WrVaUO6Nrs8o"
      },
      "outputs": [
        {
          "name": "stdout",
          "output_type": "stream",
          "text": [
            "1\n",
            "2\n",
            "3\n",
            "4\n",
            "5\n",
            "6\n",
            "7\n",
            "8\n",
            "9\n",
            "10\n",
            "11\n",
            "12\n",
            "13\n",
            "14\n",
            "15\n",
            "16\n",
            "17\n",
            "18\n",
            "19\n"
          ]
        }
      ],
      "source": [
        "def my_range(stop:int, start:int=0, step:int=1):\n",
        "    for i in range(start,stop,step):\n",
        "        print(i)\n",
        "my_range(20,1)"
      ]
    },
    {
      "cell_type": "markdown",
      "metadata": {},
      "source": []
    },
    {
      "attachments": {},
      "cell_type": "markdown",
      "metadata": {
        "id": "X9Ec0fiKrs8o"
      },
      "source": [
        "##### Returning Values"
      ]
    },
    {
      "cell_type": "code",
      "execution_count": 60,
      "metadata": {
        "id": "tRxhyCRVrs8o"
      },
      "outputs": [
        {
          "data": {
            "text/plain": [
              "'string2'"
            ]
          },
          "execution_count": 60,
          "metadata": {},
          "output_type": "execute_result"
        }
      ],
      "source": [
        "#print does not equal return\n",
        "#printing only displays output. it does not return an object that is assocaited with print() function\n",
        "\n",
        "def print_args(arg1,arg2):\n",
        "    return arg1 + arg2\n",
        "print_args(\"String\", \"2\").lower()\n"
      ]
    },
    {
      "attachments": {},
      "cell_type": "markdown",
      "metadata": {
        "id": "Ar3s_91Vrs8o"
      },
      "source": [
        "##### *args"
      ]
    },
    {
      "cell_type": "code",
      "execution_count": 63,
      "metadata": {
        "id": "FOKAMCwprs8o"
      },
      "outputs": [
        {
          "ename": "NameError",
          "evalue": "name 'args' is not defined",
          "output_type": "error",
          "traceback": [
            "\u001b[0;31m---------------------------------------------------------------------------\u001b[0m",
            "\u001b[0;31mNameError\u001b[0m                                 Traceback (most recent call last)",
            "\u001b[1;32m/Users/burnesbrown1/Documents/Coding Temple/Coding_Temple_Two/Week2/day2/Python I Day 2.ipynb Cell 78\u001b[0m line \u001b[0;36m6\n\u001b[1;32m      <a href='vscode-notebook-cell:/Users/burnesbrown1/Documents/Coding%20Temple/Coding_Temple_Two/Week2/day2/Python%20I%20Day%202.ipynb#Y131sZmlsZQ%3D%3D?line=2'>3</a>\u001b[0m     \u001b[39mprint\u001b[39m(num1)\n\u001b[1;32m      <a href='vscode-notebook-cell:/Users/burnesbrown1/Documents/Coding%20Temple/Coding_Temple_Two/Week2/day2/Python%20I%20Day%202.ipynb#Y131sZmlsZQ%3D%3D?line=3'>4</a>\u001b[0m     \u001b[39mprint\u001b[39m(args)\n\u001b[0;32m----> <a href='vscode-notebook-cell:/Users/burnesbrown1/Documents/Coding%20Temple/Coding_Temple_Two/Week2/day2/Python%20I%20Day%202.ipynb#Y131sZmlsZQ%3D%3D?line=5'>6</a>\u001b[0m \u001b[39mfor\u001b[39;00m arg \u001b[39min\u001b[39;00m args:\n\u001b[1;32m      <a href='vscode-notebook-cell:/Users/burnesbrown1/Documents/Coding%20Temple/Coding_Temple_Two/Week2/day2/Python%20I%20Day%202.ipynb#Y131sZmlsZQ%3D%3D?line=6'>7</a>\u001b[0m     \u001b[39mprint\u001b[39m(arg)\n\u001b[1;32m      <a href='vscode-notebook-cell:/Users/burnesbrown1/Documents/Coding%20Temple/Coding_Temple_Two/Week2/day2/Python%20I%20Day%202.ipynb#Y131sZmlsZQ%3D%3D?line=8'>9</a>\u001b[0m \u001b[39mfor\u001b[39;00m karg \u001b[39min\u001b[39;00m kwargs:\n",
            "\u001b[0;31mNameError\u001b[0m: name 'args' is not defined"
          ]
        }
      ],
      "source": [
        "#it can tke in any argument as parametesr\n",
        "def print_args(num1, *args, **kwargs):\n",
        "    print(num1)\n",
        "    print(args)\n",
        "\n",
        "for arg in args\n",
        "    print(arg)\n",
        "\n",
        "for karg in kwargs:\n",
        "    print(karg)\n",
        "\n",
        "print_args(36,\"megazord\" \"mint-chocolate chip\", 2,3, testing = \"joel\")"
      ]
    },
    {
      "cell_type": "markdown",
      "metadata": {},
      "source": []
    },
    {
      "attachments": {},
      "cell_type": "markdown",
      "metadata": {
        "id": "twSjhVegrs8o"
      },
      "source": [
        "##### Docstring"
      ]
    },
    {
      "cell_type": "code",
      "execution_count": null,
      "metadata": {
        "id": "YqowH4COrs8p"
      },
      "outputs": [],
      "source": [
        "def print_names(l_1):\n",
        "\n",
        "    \"\"\"\n",
        "    Function name:print_names\n",
        "    Input: List object,containing strings of names\n",
        "    Output:print each name in the list given\n",
        "\n",
        "    How does it work? Function requires a list to be passed into\n",
        "    \"\"\"\n",
        "\n",
        "    for name in l_1:\n",
        "        print(name)\n",
        "\n",
        "help(print_names)"
      ]
    },
    {
      "attachments": {},
      "cell_type": "markdown",
      "metadata": {
        "id": "EkymtL8Brs8p"
      },
      "source": [
        "##### Using a User Function in a Loop"
      ]
    },
    {
      "cell_type": "code",
      "execution_count": null,
      "metadata": {
        "id": "CX21hhzhrs8p"
      },
      "outputs": [],
      "source": []
    },
    {
      "cell_type": "code",
      "execution_count": 65,
      "metadata": {},
      "outputs": [
        {
          "name": "stdout",
          "output_type": "stream",
          "text": [
            "sleep\n"
          ]
        }
      ],
      "source": [
        "def print_input(answer:str):\n",
        "    print(answer)\n",
        "response = input(\"Are you ready to quit? y/n\")\n",
        "\n",
        "while True:\n",
        "    ask = input(\"what do you want to do today\")\n",
        "    print_input(ask)\n",
        "\n",
        "    response = input(\"ready to quit? y/n\")\n",
        "    if response.lower() == \"y\":\n",
        "        break"
      ]
    },
    {
      "attachments": {},
      "cell_type": "markdown",
      "metadata": {
        "id": "V7gH_UuPrs8p"
      },
      "source": [
        "## Function Exercise <br>\n",
        "<p>Write a function that loops through a list of first_names and a list of last_names, combines the two and return a list of full_names</p>"
      ]
    },
    {
      "cell_type": "code",
      "execution_count": null,
      "metadata": {},
      "outputs": [],
      "source": []
    },
    {
      "cell_type": "code",
      "execution_count": 78,
      "metadata": {
        "id": "ogvq6xo-rs8p"
      },
      "outputs": [
        {
          "name": "stdout",
          "output_type": "stream",
          "text": [
            "John Smith\n",
            "Evan Smith\n",
            "Jordan Williams\n",
            "Max Bell\n",
            "['John Smith', 'Evan Smith', 'Jordan Williams', 'Max Bell']\n"
          ]
        }
      ],
      "source": [
        "first_name = ['John', 'Evan', 'Jordan', 'Max']\n",
        "last_name = ['Smith', 'Smith', 'Williams', 'Bell']\n",
        "\n",
        "# Output: ['John Smith', 'Evan Smith', 'Jordan Williams', 'Max Bell']\n",
        "\n",
        "for first,last in zip (first_name,last_name):\n",
        "    print(first + \" \"+ last)\n",
        "\n",
        "def name_list (first_name, last_name):\n",
        "    return[first + \" \" + last for first,last in zip (first_name, last_name)]\n",
        "print(name_list(first_name,last_name))\n",
        " \n",
        "\n",
        "\n",
        "\n",
        "\n",
        "\n"
      ]
    },
    {
      "attachments": {},
      "cell_type": "markdown",
      "metadata": {
        "id": "yOjmLQ7Wrs8p"
      },
      "source": [
        "## Scope <br>\n",
        "<p>Scope refers to the ability to access variables, different types of scope include:<br>a) Global<br>b) Function (local)<br>c) Class (local)</p>\n"
      ]
    },
    {
      "cell_type": "code",
      "execution_count": null,
      "metadata": {
        "id": "Gnb7C0-4rs8p"
      },
      "outputs": [],
      "source": [
        "\n"
      ]
    },
    {
      "cell_type": "code",
      "execution_count": null,
      "metadata": {},
      "outputs": [],
      "source": []
    }
  ],
  "metadata": {
    "colab": {
      "provenance": []
    },
    "kernelspec": {
      "display_name": "Python 3",
      "language": "python",
      "name": "python3"
    },
    "language_info": {
      "codemirror_mode": {
        "name": "ipython",
        "version": 3
      },
      "file_extension": ".py",
      "mimetype": "text/x-python",
      "name": "python",
      "nbconvert_exporter": "python",
      "pygments_lexer": "ipython3",
      "version": "3.11.5"
    },
    "vscode": {
      "interpreter": {
        "hash": "26de051ba29f2982a8de78e945f0abaf191376122a1563185a90213a26c5da77"
      }
    }
  },
  "nbformat": 4,
  "nbformat_minor": 0
}
