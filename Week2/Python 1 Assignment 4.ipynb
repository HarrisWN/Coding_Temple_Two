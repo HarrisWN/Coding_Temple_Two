{
 "cells": [
  {
   "attachments": {},
   "cell_type": "markdown",
   "metadata": {},
   "source": [
    "# Coding Temple's Data Analytics Program\n",
    "---\n",
    "## Python Basics Assignment 4\n",
    "---"
   ]
  },
  {
   "attachments": {},
   "cell_type": "markdown",
   "metadata": {},
   "source": [
    "### **Task 1: Update Shopping Cart**\n",
    "Using the shopping cart you created yesterday as a blueprint, create a shopping cart using object-oriented programming. This shopping cart should maintain all functionality that you currently have in your blueprint."
   ]
  },
  {
   "cell_type": "code",
   "execution_count": 69,
   "metadata": {},
   "outputs": [
    {
     "ename": "IndentationError",
     "evalue": "expected an indented block after function definition on line 2 (2811891442.py, line 3)",
     "output_type": "error",
     "traceback": [
      "\u001b[0;36m  Cell \u001b[0;32mIn[69], line 3\u001b[0;36m\u001b[0m\n\u001b[0;31m    self.food_type = []\u001b[0m\n\u001b[0m    ^\u001b[0m\n\u001b[0;31mIndentationError\u001b[0m\u001b[0;31m:\u001b[0m expected an indented block after function definition on line 2\n"
     ]
    }
   ],
   "source": [
    "class ShipppingBag:\n",
    "    def __init__(self):\n",
    "    self.food_type = []\n",
    "       \n",
    "#show food type in cart\n",
    "def show_shopping_bag(self): #self method in function allows the class to take advantage of all the self instances above\n",
    "    print(\"you have items in your bag\")\n",
    "        for food in self.food_type:\n",
    "            print(food)\n",
    "\n",
    "#show quantity of foods\n",
    "def show_qty(self):\n",
    "    print(f\"your current quantity is:{self.food_qty}\")\n",
    "\n",
    "#method to add food(s) to the item list for the shopping bag:\n",
    "def add_to_shopping_bag(sel, food_type:str, food_qty:int):\n",
    "    food_type = input(\"what would you like to add?\")\n",
    "        self.item.append(food_type)\n",
    "\n",
    "#method to delete food(s) from the item list for the shopping bag:\n",
    "def remove_from_shopping_bag(self, food_type):\n",
    "    if food_type not in self.foodtype:\n",
    "        print(\"item not in cart\")\n",
    "\n",
    "\n",
    "    for item in self.food_types:\n",
    "        self.food_type.remove(food_type)\n",
    "        self.view.cart()\n",
    "        break\n",
    "        \n",
    "#method to delete food(s) from the item list for the shopping bag:\n",
    "def clear_cart(self): \n",
    "    self.food_type = []\n",
    "\n",
    "def checkout(self):\n",
    "    print (\"close the cart and retuen to you the items in it\")\n",
    "    for items in self.food_type:\n",
    "        print str(food_type[0] + str(food_type[1]))\n",
    "        return str(sums[food_qty[1] for in])\n",
    "        \n",
    "\n",
    "#method to check out from the item list for the shopping bag:\n",
    "\n",
    "cart= ShoppingCart\n",
    "cart\n",
    "    \n"
   ]
  },
  {
   "attachments": {},
   "cell_type": "markdown",
   "metadata": {},
   "source": [
    "### **Task 2: String Class**\n",
    "Write a class which has the following two methods:\n",
    "* `get_string`: Accepts a string input from the user\n",
    "* `print_string`: Prints the string all in upper-case"
   ]
  },
  {
   "cell_type": "code",
   "execution_count": 34,
   "metadata": {},
   "outputs": [
    {
     "ename": "SyntaxError",
     "evalue": "'return' outside function (645532408.py, line 7)",
     "output_type": "error",
     "traceback": [
      "\u001b[0;36m  Cell \u001b[0;32mIn[34], line 7\u001b[0;36m\u001b[0m\n\u001b[0;31m    return new_thought\u001b[0m\n\u001b[0m    ^\u001b[0m\n\u001b[0;31mSyntaxError\u001b[0m\u001b[0;31m:\u001b[0m 'return' outside function\n"
     ]
    }
   ],
   "source": [
    "# YOUR CODE HERE\n",
    "class User_methods:\n",
    "    def __init__ (self,):\n",
    "        self = thought\n",
    "        upper.thought = new_thought\n",
    "    \n",
    "    return new_thought\n",
    "\n"
   ]
  },
  {
   "attachments": {},
   "cell_type": "markdown",
   "metadata": {},
   "source": [
    "### **Task 3: Activities**\n",
    "Create a class that depicts your favorite activity. Add in attributes that are associated with that activity in you `__init__` call. Also, create three functions that are associated with the activity.\n",
    "\n",
    "**Example:**\n",
    "If I chose football, I may have a FootballPlayer class with attributes such as:\n",
    "* `self.speed`\n",
    "* `self.strength`\n",
    "* `self.position`\n",
    "\n",
    "and methods such as:\n",
    "* `def pass_ball`\n",
    "* `def run`\n",
    "* `def faster_than_x`"
   ]
  },
  {
   "cell_type": "code",
   "execution_count": 57,
   "metadata": {},
   "outputs": [],
   "source": [
    "class Tennis:\n",
    "    def __init__(self, pace, number_sets:int, doubles:bool, ball:int):\n",
    "        self.pace = pace\n",
    "        self.number_sets = number_sets\n",
    "        self.doubles = doubles\n",
    "        self.ball = ball\n",
    "\n",
    "\n",
    "\n"
   ]
  },
  {
   "attachments": {},
   "cell_type": "markdown",
   "metadata": {},
   "source": [
    "### **Task 4: Test Your Class!**\n",
    "Now that you created your class, let's create an instance of your class. In the cell below, instantiate a Class Object, then test each of your class methods on that object."
   ]
  },
  {
   "cell_type": "code",
   "execution_count": 56,
   "metadata": {},
   "outputs": [
    {
     "data": {
      "text/plain": [
       "The game of tennis is a (kind) fast paced and there are 3 sets. You can play doubles True with 1 ball"
      ]
     },
     "execution_count": 56,
     "metadata": {},
     "output_type": "execute_result"
    }
   ],
   "source": [
    "class Tennis:\n",
    "    def __init__(self, pace, number_sets:int, doubles:bool, ball:int):\n",
    "        self.pace = pace\n",
    "        self.number_sets = number_sets\n",
    "        self.doubles = doubles\n",
    "        self.ball = ball\n",
    "\n",
    "    def __repr__(self):\n",
    "        return f'The game of tennis is a (kind) {self.pace} paced and there are {self.number_sets} sets. You can play doubles {self.doubles} with {self.ball} ball'\n",
    "    \n",
    "my_sport = Tennis(\"fast\", 3, True, 1)\n",
    "my_sport"
   ]
  }
 ],
 "metadata": {
  "kernelspec": {
   "display_name": "Python 3",
   "language": "python",
   "name": "python3"
  },
  "language_info": {
   "codemirror_mode": {
    "name": "ipython",
    "version": 3
   },
   "file_extension": ".py",
   "mimetype": "text/x-python",
   "name": "python",
   "nbconvert_exporter": "python",
   "pygments_lexer": "ipython3",
   "version": "3.11.4"
  },
  "orig_nbformat": 4,
  "vscode": {
   "interpreter": {
    "hash": "26de051ba29f2982a8de78e945f0abaf191376122a1563185a90213a26c5da77"
   }
  }
 },
 "nbformat": 4,
 "nbformat_minor": 2
}
