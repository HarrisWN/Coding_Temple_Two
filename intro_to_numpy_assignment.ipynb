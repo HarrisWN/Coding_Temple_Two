{
  "cells": [
    {
      "attachments": {},
      "cell_type": "markdown",
      "metadata": {
        "id": "ZvNsvUNNlZbi"
      },
      "source": [
        "# Coding Temple's Data Analytics Program  \n",
        "---\n",
        "# Advanced Python - Intro to `numpy`\n",
        "---\n",
        "\n"
      ]
    },
    {
      "attachments": {},
      "cell_type": "markdown",
      "metadata": {
        "id": "xMq6Of2Gt24o"
      },
      "source": [
        "## Part 1: Working with `numpy`\n"
      ]
    },
    {
      "attachments": {},
      "cell_type": "markdown",
      "metadata": {
        "id": "76eJSGb5gwtY"
      },
      "source": [
        "### 1.1 Importing `numpy`\n",
        "\n",
        "We've already used the `numpy` package by importing it and assigning it the standard alias of `np`. Do this again in the following cell - the more you practice typing these lines of code, the easier it will be to remember."
      ]
    },
    {
      "cell_type": "code",
      "execution_count": 1,
      "metadata": {
        "id": "h3r0IvHVuGJb"
      },
      "outputs": [],
      "source": [
        "# Import numpy and assign it the standard alias\n",
        "# YOUR CODE HERE\n",
        "import numpy as np"
      ]
    },
    {
      "attachments": {},
      "cell_type": "markdown",
      "metadata": {},
      "source": [
        "### 1.1 Solution - Run this cell to check your answer in 1.1. Please do not edit the values in this cell!"
      ]
    },
    {
      "cell_type": "code",
      "execution_count": 2,
      "metadata": {},
      "outputs": [],
      "source": [
        "# DO NOT EDIT THIS CELL\n",
        "assert np.__name__ == 'numpy', 'Make sure that you have properly imported numpy and aliased it as np!'"
      ]
    },
    {
      "attachments": {},
      "cell_type": "markdown",
      "metadata": {
        "id": "DvYie7qokbDH"
      },
      "source": [
        "### 1.2 Generate random numbers\n",
        "\n",
        "Create a `(5,3)` `numpy` array of random integer values between 0 and 100.\n",
        "\n",
        "Use the the `random()` method in numpy to generate these integers. Name your new variable `myarray`. You should also print the array to check it's dimensions and values."
      ]
    },
    {
      "cell_type": "code",
      "execution_count": 29,
      "metadata": {
        "colab": {
          "base_uri": "https://localhost:8080/"
        },
        "id": "UNJo_50VktRs",
        "outputId": "201f35e8-cd05-451c-aee4-de9b6e2ad93c"
      },
      "outputs": [
        {
          "name": "stdout",
          "output_type": "stream",
          "text": [
            "[ 9 15 64 28 89 93 29  8 73  0 40 36 16 11 54]\n",
            "[37 37 45 45 12]\n",
            "[46 55 69  1 87]\n"
          ]
        },
        {
          "data": {
            "text/plain": [
              "(5, 3)"
            ]
          },
          "execution_count": 29,
          "metadata": {},
          "output_type": "execute_result"
        }
      ],
      "source": [
        "# Generate your random numbers\n",
        "#np.random.seed(1) #Seed generated for reproducibility\n",
        "\n",
        "np.random.seed(10)\n",
        "arr1=np.random.choice(100,15)\n",
        "print(arr1)\n",
        " \n",
        "np.random.seed(30)\n",
        "arr2=np.random.choice(100,5)\n",
        "print(arr2)\n",
        "\n",
        "np.random.seed(4)\n",
        "arr3=np.random.choice(100,5)\n",
        "print(arr3)\n",
        "\n",
        "#newarray = np.\n",
        "\n",
        "myarray = arr1.reshape(5,3)\n",
        "myarray\n",
        "\n",
        "myarray.shape\n",
        "\n",
        "\n",
        "\n",
        "#YOUR CODE HERE\n",
        "#arr 1 = [np.random.seed(\n",
        "#arr = np.array([np.random.seed(1)] [np.random.seed(1)])\n",
        "\n",
        "# Print out the array\n",
        "#myarray"
      ]
    },
    {
      "attachments": {},
      "cell_type": "markdown",
      "metadata": {},
      "source": [
        "### 1.2 Solution - Run the following cell to check your answer."
      ]
    },
    {
      "cell_type": "code",
      "execution_count": 30,
      "metadata": {},
      "outputs": [],
      "source": [
        "#DO NOT EDIT THIS CELL\n",
        "\n",
        "#Verify the array was created with the correct name and has the proper shape\n",
        "assert myarray.shape == (5,3), 'Make sure you create an array with the proper shape!'"
      ]
    },
    {
      "attachments": {},
      "cell_type": "markdown",
      "metadata": {},
      "source": [
        "### 1.3 Calculate BMI \n",
        "\n",
        "Using the two lists provided, please calculate the BMI(body mass index) of each individual using NDArrays. Save the variable containing your results as `bmi`\n",
        "\n",
        "The formula for BMI in pounds and inches can be defined as: $BMI= \\frac{703 * weight} {(height)^2}$"
      ]
    },
    {
      "cell_type": "code",
      "execution_count": 53,
      "metadata": {},
      "outputs": [
        {
          "name": "stdout",
          "output_type": "stream",
          "text": [
            "[119510 126540 133570 140600]\n",
            "[ 3025 14400  8100 10000]\n"
          ]
        },
        {
          "ename": "TypeError",
          "evalue": "'numpy.float64' object cannot be interpreted as an integer",
          "output_type": "error",
          "traceback": [
            "\u001b[0;31m---------------------------------------------------------------------------\u001b[0m",
            "\u001b[0;31mTypeError\u001b[0m                                 Traceback (most recent call last)",
            "\u001b[1;32m/Users/burnesbrown1/Downloads/intro_to_numpy_assignment.ipynb Cell 12\u001b[0m line \u001b[0;36m1\n\u001b[1;32m     <a href='vscode-notebook-cell:/Users/burnesbrown1/Downloads/intro_to_numpy_assignment.ipynb#X14sZmlsZQ%3D%3D?line=12'>13</a>\u001b[0m intnewweight \u001b[39m=\u001b[39m newheight\u001b[39m.\u001b[39mastype(\u001b[39mint\u001b[39m)\n\u001b[1;32m     <a href='vscode-notebook-cell:/Users/burnesbrown1/Downloads/intro_to_numpy_assignment.ipynb#X14sZmlsZQ%3D%3D?line=13'>14</a>\u001b[0m intnewweight\u001b[39m.\u001b[39mdtype\n\u001b[0;32m---> <a href='vscode-notebook-cell:/Users/burnesbrown1/Downloads/intro_to_numpy_assignment.ipynb#X14sZmlsZQ%3D%3D?line=17'>18</a>\u001b[0m np\u001b[39m.\u001b[39;49mndarray(intnewweight\u001b[39m/\u001b[39;49mintnewheight)\n\u001b[1;32m     <a href='vscode-notebook-cell:/Users/burnesbrown1/Downloads/intro_to_numpy_assignment.ipynb#X14sZmlsZQ%3D%3D?line=18'>19</a>\u001b[0m \u001b[39m#newheight = (height**2)\u001b[39;00m\n\u001b[1;32m     <a href='vscode-notebook-cell:/Users/burnesbrown1/Downloads/intro_to_numpy_assignment.ipynb#X14sZmlsZQ%3D%3D?line=19'>20</a>\u001b[0m \u001b[39m#print(newheight)\u001b[39;00m\n\u001b[1;32m     <a href='vscode-notebook-cell:/Users/burnesbrown1/Downloads/intro_to_numpy_assignment.ipynb#X14sZmlsZQ%3D%3D?line=20'>21</a>\u001b[0m \n\u001b[1;32m     <a href='vscode-notebook-cell:/Users/burnesbrown1/Downloads/intro_to_numpy_assignment.ipynb#X14sZmlsZQ%3D%3D?line=21'>22</a>\u001b[0m \n\u001b[1;32m     <a href='vscode-notebook-cell:/Users/burnesbrown1/Downloads/intro_to_numpy_assignment.ipynb#X14sZmlsZQ%3D%3D?line=22'>23</a>\u001b[0m \u001b[39m#BMI = (703*weight)/(height**2)\u001b[39;00m\n",
            "\u001b[0;31mTypeError\u001b[0m: 'numpy.float64' object cannot be interpreted as an integer"
          ]
        }
      ],
      "source": [
        "height = [55, 120, 90, 100]\n",
        "weight = [170, 180, 190, 200]\n",
        "\n",
        "newweight = np.multiply(weight,703) \n",
        "print(newweight)\n",
        "\n",
        "newheight = np.power(height, 2)\n",
        "print(newheight)\n",
        "\n",
        "intnewheight = newheight.astype(int)\n",
        "intnewheight.dtype\n",
        "\n",
        "intnewweight = newheight.astype(int)\n",
        "intnewweight.dtype\n",
        "\n",
        "\n",
        "\n",
        "np.ndarray(intnewweight/intnewheight)\n",
        "#newheight = (height**2)\n",
        "#print(newheight)\n",
        "\n",
        "\n",
        "#BMI = (703*weight)/(height**2)"
      ]
    },
    {
      "attachments": {},
      "cell_type": "markdown",
      "metadata": {},
      "source": [
        "### 1.3 Solution: Run the following cell to check your answer."
      ]
    },
    {
      "cell_type": "code",
      "execution_count": 13,
      "metadata": {},
      "outputs": [],
      "source": [
        "assert 'bmi' in dir() , 'Make sure you have saved your results to the proper variable name!'\n",
        "assert type(bmi) == np.ndarray, 'Make sure that you made the calculation using an NDArray for both height and weight!'"
      ]
    },
    {
      "attachments": {},
      "cell_type": "markdown",
      "metadata": {},
      "source": [
        "### 1.4 Create a function \n",
        "\n",
        "Create a function named `my_func` that will take in two parameters and will create a random matrix based off of those parameters. Extra: Have additional parameters taken in that allow the user to choose the shape and data type of the matrix."
      ]
    },
    {
      "cell_type": "code",
      "execution_count": 128,
      "metadata": {},
      "outputs": [
        {
          "name": "stdout",
          "output_type": "stream",
          "text": [
            "[37 12 72  9 75  5 79 64 16  1 76 71  6 25 50]\n",
            "[40 15 72 22 43 82 75  7 34 49 95 75 85 47 63]\n",
            "[24  3 56 72  0 21 19 74 41 10 21 38 96 20 44]\n",
            "[[37 12 72]\n",
            " [ 9 75  5]\n",
            " [79 64 16]\n",
            " [ 1 76 71]\n",
            " [ 6 25 50]]\n"
          ]
        }
      ],
      "source": [
        "x = int(input(\"x\"))\n",
        "y = int(input( \"y\"))\n",
        "a = int(input(\"a\"))\n",
        "b = int(input(\"b\"))\n",
        "c = int(input(\"c\"))\n",
        "\n",
        "\n",
        "\n",
        "np.random.seed(a)\n",
        "arr1=np.random.choice(x,y)\n",
        "print(arr1)\n",
        " \n",
        "np.random.seed(b)\n",
        "arr2=np.random.choice(x,y)\n",
        "print(arr2)\n",
        "\n",
        "np.random.seed(c)\n",
        "arr3=np.random.choice(x,y)\n",
        "print(arr3)\n",
        "\n",
        "#newarray = np.\n",
        "\n",
        "my_func = arr1.reshape(5,3)\n",
        "my_func\n",
        "\n",
        "\n",
        "#np.random.seed(z)\n",
        "#my_func=np.random.choice(x,y)\n",
        "\n",
        "\n",
        "\n",
        "\n",
        "\n",
        "#my_func = np.array(np.random.choice(x,y), ndmin=z) \n",
        "print(my_func)\n",
        "\n",
        "\n"
      ]
    },
    {
      "attachments": {},
      "cell_type": "markdown",
      "metadata": {
        "id": "CYy4Zp5pk7tS"
      },
      "source": [
        "### 1.5 Array practice\n",
        "\n",
        "Time for some more practice. Run each of these tasks in the separate code cell listed below:\n",
        "\n",
        "1.  Return the first row\n",
        "2.  Return the last column\n",
        "3.  Return the third column values from the 4th and 5th rows\n",
        "4.  Multiply every value in the array by 2\n",
        "5.  Divide every value by 3\n",
        "6.  Increase the values in the first row by 12\n",
        "7. Calculate the mean of the first column\n",
        "8. Calculate the median of the array _after_ removing the 2 smallest values in the array\n",
        "9. Calculate the standard deviation of the first 3 rows\n",
        "10. Return values greater than 25 in the second column\n",
        "11. Return values less than 40 in the array"
      ]
    },
    {
      "cell_type": "code",
      "execution_count": 130,
      "metadata": {
        "colab": {
          "base_uri": "https://localhost:8080/"
        },
        "id": "lIxLoTfGl910",
        "outputId": "126ce770-41b6-42ab-eab5-26071a027979"
      },
      "outputs": [
        {
          "data": {
            "text/plain": [
              "array([37, 12, 72])"
            ]
          },
          "execution_count": 130,
          "metadata": {},
          "output_type": "execute_result"
        }
      ],
      "source": [
        "# 1. Return the first row:\n",
        "my_func[0, :]"
      ]
    },
    {
      "cell_type": "code",
      "execution_count": 131,
      "metadata": {
        "colab": {
          "base_uri": "https://localhost:8080/"
        },
        "id": "lMafok6zoGB-",
        "outputId": "df874775-ac9e-42de-c305-fd7e13afc98b"
      },
      "outputs": [
        {
          "data": {
            "text/plain": [
              "array([72,  5, 16, 71, 50])"
            ]
          },
          "execution_count": 131,
          "metadata": {},
          "output_type": "execute_result"
        }
      ],
      "source": [
        "# 2. Return the last column\n",
        "my_func[:,-1]"
      ]
    },
    {
      "cell_type": "code",
      "execution_count": 134,
      "metadata": {
        "colab": {
          "base_uri": "https://localhost:8080/"
        },
        "id": "TEpRarEbobjz",
        "outputId": "0adb6634-385c-47a4-f01e-1b8add2518d1"
      },
      "outputs": [
        {
          "data": {
            "text/plain": [
              "(71, 50)"
            ]
          },
          "execution_count": 134,
          "metadata": {},
          "output_type": "execute_result"
        }
      ],
      "source": [
        "# 3. Return the third column values from the 4th and 5th rows\n",
        "my_func[3,2], my_func[4,2]\n"
      ]
    },
    {
      "cell_type": "code",
      "execution_count": 135,
      "metadata": {
        "colab": {
          "base_uri": "https://localhost:8080/"
        },
        "id": "6nR51YtPpdKo",
        "outputId": "244aec23-e37a-4bca-d8fb-43b3744f3c4d"
      },
      "outputs": [
        {
          "data": {
            "text/plain": [
              "array([[ 74,  24, 144],\n",
              "       [ 18, 150,  10],\n",
              "       [158, 128,  32],\n",
              "       [  2, 152, 142],\n",
              "       [ 12,  50, 100]])"
            ]
          },
          "execution_count": 135,
          "metadata": {},
          "output_type": "execute_result"
        }
      ],
      "source": [
        "# 4. Multiply every value in the array by 2\n",
        "multimy_func = np.multiply(my_func, 2)\n",
        "multimy_func"
      ]
    },
    {
      "cell_type": "code",
      "execution_count": 136,
      "metadata": {
        "colab": {
          "base_uri": "https://localhost:8080/"
        },
        "id": "6Nr8BqCVpfr1",
        "outputId": "a3616032-2853-41a8-c941-b5a8be43f70f"
      },
      "outputs": [
        {
          "data": {
            "text/plain": [
              "array([[12.33333333,  4.        , 24.        ],\n",
              "       [ 3.        , 25.        ,  1.66666667],\n",
              "       [26.33333333, 21.33333333,  5.33333333],\n",
              "       [ 0.33333333, 25.33333333, 23.66666667],\n",
              "       [ 2.        ,  8.33333333, 16.66666667]])"
            ]
          },
          "execution_count": 136,
          "metadata": {},
          "output_type": "execute_result"
        }
      ],
      "source": [
        "# 5. Divide every value by 3\n",
        "divmy_func=np.divide(my_func,3)\n",
        "divmy_func"
      ]
    },
    {
      "cell_type": "code",
      "execution_count": 138,
      "metadata": {
        "colab": {
          "base_uri": "https://localhost:8080/"
        },
        "id": "5ejUOn2gptcV",
        "outputId": "921e3aab-2cf7-4a46-8581-5fdb1fb69da1"
      },
      "outputs": [
        {
          "data": {
            "text/plain": [
              "array([49, 24, 84])"
            ]
          },
          "execution_count": 138,
          "metadata": {},
          "output_type": "execute_result"
        }
      ],
      "source": [
        "# 6. Increase the values in the first row by 12\n",
        "#my_func[0,:] + [12]\n",
        "\n",
        "my_vec = my_func [0,]+ 12\n",
        "my_vec"
      ]
    },
    {
      "cell_type": "code",
      "execution_count": 154,
      "metadata": {
        "colab": {
          "base_uri": "https://localhost:8080/"
        },
        "id": "o-q-n6rzpunI",
        "outputId": "0783e4fc-2bc5-4480-e62d-90fdd33c73e2"
      },
      "outputs": [
        {
          "data": {
            "text/plain": [
              "26.4"
            ]
          },
          "execution_count": 154,
          "metadata": {},
          "output_type": "execute_result"
        }
      ],
      "source": [
        "# 7. Calculate the mean of the first column\n",
        "my_func_column1_sum = sum(my_func[:, 0])\n",
        "my_func_column1_sum\n",
        "\n",
        "my_func_column1_len = len(my_func[:,0])\n",
        "my_func_column1_len\n",
        "\n",
        "my_func_column_mean = my_func_column1_sum/my_func_column1_len\n",
        "my_func_column_mean\n"
      ]
    },
    {
      "cell_type": "code",
      "execution_count": 171,
      "metadata": {
        "colab": {
          "base_uri": "https://localhost:8080/"
        },
        "id": "izVdnwnLpuuY",
        "outputId": "11965467-d665-416e-a4ec-883745aa668f"
      },
      "outputs": [
        {
          "name": "stdout",
          "output_type": "stream",
          "text": [
            "57.0\n",
            "37.0\n"
          ]
        }
      ],
      "source": [
        "# 8. Calculate the median of the array after removing the 2 smallest values in the array\n",
        "\n",
        "np. min(my_func) \n",
        "my_func_min  = np.delete(my_func, np.where(my_func == 1))\n",
        "np.min(my_func)\n",
        "my_func_min2  = np.delete(my_func_min, np.where(my_func_min == 1))\n",
        "my_func_min2\n",
        "my_func_min\n",
        "\n",
        "print(np.median(my_func_min2))\n",
        "print(np.median(my_func))\n",
        "\n",
        "\n",
        "\n",
        "\n"
      ]
    },
    {
      "cell_type": "code",
      "execution_count": 174,
      "metadata": {
        "colab": {
          "base_uri": "https://localhost:8080/"
        },
        "id": "1WCDKp2xrzK9",
        "outputId": "74aca405-d2d6-4ec6-e983-a438a8aec81f"
      },
      "outputs": [
        {
          "name": "stdout",
          "output_type": "stream",
          "text": [
            "[[40 15 72 22]\n",
            " [43 82 75  7]\n",
            " [34 49 95 75]\n",
            " [85 47 63 31]\n",
            " [90 20 37 39]]\n"
          ]
        }
      ],
      "source": [
        "# 9. Calculate the standard deviation of the first 3 rows\n",
        "# Generate a new array to work on\n",
        "np.random.seed(2) # New seed for new array\n",
        "\n",
        "np.random.seed(2)\n",
        "newarr1=np.random.choice(100,20).reshape(5,4)\n",
        "print(newarr1)\n"
      ]
    },
    {
      "cell_type": "code",
      "execution_count": 182,
      "metadata": {
        "colab": {
          "base_uri": "https://localhost:8080/"
        },
        "id": "zb7aXd3xry3r",
        "outputId": "e6f81b8a-1cb1-4c9f-a734-a8471a8f7961"
      },
      "outputs": [
        {
          "name": "stdout",
          "output_type": "stream",
          "text": [
            "[15 82 49 47 20]\n",
            "[False  True  True  True False]\n"
          ]
        }
      ],
      "source": [
        "# 10. Return values in the second column greater than 25\n",
        "print(newarr1[:,1])\n",
        "greater_than_25 = newarr1[:,1 ] > 25\n",
        "greater_than_25\n",
        "print(greater_than_25)"
      ]
    },
    {
      "cell_type": "code",
      "execution_count": 184,
      "metadata": {
        "colab": {
          "base_uri": "https://localhost:8080/"
        },
        "id": "IZ8HYk95ocDE",
        "outputId": "8d047861-9abd-4138-ce5c-366821ca933c"
      },
      "outputs": [
        {
          "name": "stdout",
          "output_type": "stream",
          "text": [
            "[15 22  7 34 31 20 37 39]\n"
          ]
        }
      ],
      "source": [
        "# 11. Return values < 40 in the array\n",
        "\n",
        "\n",
        "print(newarr1[newarr1 < 40])"
      ]
    },
    {
      "cell_type": "code",
      "execution_count": null,
      "metadata": {},
      "outputs": [],
      "source": []
    },
    {
      "attachments": {},
      "cell_type": "markdown",
      "metadata": {
        "id": "6Xwf9ZDLX_xp"
      },
      "source": [
        "### Solution 1.5: Run the following cell to view the solution for each of the above tasks.\n",
        "\n",
        "A new array will be generated to demonstrate the solution - the values will not be the same as your array. But the code for each task will still apply."
      ]
    },
    {
      "cell_type": "code",
      "execution_count": 185,
      "metadata": {
        "colab": {
          "base_uri": "https://localhost:8080/"
        },
        "id": "15P0nIbqY8vi",
        "outputId": "f0aa2414-b800-48de-c300-d3763e4eb9fc"
      },
      "outputs": [
        {
          "name": "stdout",
          "output_type": "stream",
          "text": [
            "The generated array: \n",
            " [[67  4 42]\n",
            " [51 38 33]\n",
            " [58 67 69]\n",
            " [88 68 46]\n",
            " [70 95 83]]\n",
            "\n",
            "\n",
            "1. The first row:  [67  4 42]\n",
            "\n",
            "\n",
            "2. The last column:  [42 33 69 46 83]\n",
            "\n",
            "\n",
            "3. The 3rd column, 4th & 5th rows:  [46 83]\n",
            "\n",
            "\n",
            "4. Multiply by 2: \n",
            " [[134   8  84]\n",
            " [102  76  66]\n",
            " [116 134 138]\n",
            " [176 136  92]\n",
            " [140 190 166]]\n",
            "\n",
            "\n",
            "5. Divide by 3: \n",
            " [[22.33333333  1.33333333 14.        ]\n",
            " [17.         12.66666667 11.        ]\n",
            " [19.33333333 22.33333333 23.        ]\n",
            " [29.33333333 22.66666667 15.33333333]\n",
            " [23.33333333 31.66666667 27.66666667]]\n",
            "\n",
            "\n",
            "6. Add 12 to the first row: \n",
            " [79 16 54]\n",
            "\n",
            "\n",
            "7. The mean of the 1st column:  66.8\n",
            "\n",
            "\n",
            "8. The median after removing the 2 smallest values:  67.0\n",
            "\n",
            "\n",
            "9. The standard deviation is:  25.066331755051856\n",
            "\n",
            "\n",
            "10. All values in 2nd column > 25: \n",
            " [[31 66 80]\n",
            " [52 76 50]\n",
            " [ 4 90 63]\n",
            " [79 49 39]]\n",
            "\n",
            "\n",
            "11. All values < 40: \n",
            " [31  4 39  8]\n"
          ]
        }
      ],
      "source": [
        "# DO NOT EDIT THIS CELL\n",
        "# SOLUTION 1.3\n",
        "\n",
        "# SOLUTION: Make sure you have completed all of the above tasks\n",
        "# Generate your random numbers (NEW ARRAY)\n",
        "myarray = np.random.randint(100, size=(5, 3))\n",
        "print('The generated array: \\n', myarray)\n",
        "print('\\n')\n",
        "\n",
        "# 1. Return the first row:\n",
        "print('1. The first row: ', myarray[0])\n",
        "print('\\n')\n",
        "\n",
        "# 2. Return the last column\n",
        "print('2. The last column: ', myarray[:,-1])\n",
        "print('\\n')\n",
        "\n",
        "# 3. Return the third column values from the 4th and 5th rows\n",
        "print('3. The 3rd column, 4th & 5th rows: ', myarray[3:5,2])\n",
        "print('\\n')\n",
        "\n",
        "# 4. Multiply every value in the array by 2\n",
        "# (operates on the original array)\n",
        "print('4. Multiply by 2: \\n', myarray * 2)\n",
        "print('\\n')\n",
        "\n",
        "# 5. Divide every value by 3\n",
        "# (operates on the original array)\n",
        "print('5. Divide by 3: \\n', myarray / 3)\n",
        "print('\\n')\n",
        "\n",
        "# 6. Increase the values in the first row by 12\n",
        "# (operates on the original array)\n",
        "print('6. Add 12 to the first row: \\n', myarray[0,:] + 12)\n",
        "print('\\n')\n",
        "\n",
        "# 7. Calculate the mean of the first column\n",
        "print('7. The mean of the 1st column: ', myarray[:,0].mean())\n",
        "print('\\n')\n",
        "\n",
        "# 8. Calculate the median of the array after removing the 2 smallest values in the array\n",
        "# flatten and sort (axis=None does the flattening)\n",
        "myarray = np.sort(myarray, axis=None)\n",
        "# remove two smallest values\n",
        "myarray = myarray[2:]\n",
        "# calculate the median\n",
        "print('8. The median after removing the 2 smallest values: ', np.median(myarray))\n",
        "print('\\n')\n",
        "\n",
        "# 9. Calculate the standard deviation of the first 3 rows\n",
        "# Generate new array first:\n",
        "myarray = np.random.randint(100, size=(5, 3))\n",
        "# Then calculate the std:\n",
        "print('9. The standard deviation is: ', np.std(myarray[0:3,:]))\n",
        "print('\\n')\n",
        "\n",
        "# 10. Return values in the second column greater than 25\n",
        "# create a Boolean mask where values in the 2nd column > 25 are True\n",
        "condition = myarray[:,1] > 25\n",
        "# Apply the mask\n",
        "print('10. All values in 2nd column > 25: \\n', myarray[condition])\n",
        "print('\\n')\n",
        "\n",
        "# 11. Return values < 40 in the array\n",
        "# create another Boolean mask for values < 40\n",
        "condition = myarray < 40\n",
        "# apply the mask\n",
        "print('11. All values < 40: \\n', myarray[condition])"
      ]
    }
  ],
  "metadata": {
    "colab": {
      "provenance": []
    },
    "kernelspec": {
      "display_name": "Python 3",
      "language": "python",
      "name": "python3"
    },
    "language_info": {
      "codemirror_mode": {
        "name": "ipython",
        "version": 3
      },
      "file_extension": ".py",
      "mimetype": "text/x-python",
      "name": "python",
      "nbconvert_exporter": "python",
      "pygments_lexer": "ipython3",
      "version": "3.10.8 (tags/v3.10.8:aaaf517, Oct 11 2022, 16:50:30) [MSC v.1933 64 bit (AMD64)]"
    },
    "vscode": {
      "interpreter": {
        "hash": "26de051ba29f2982a8de78e945f0abaf191376122a1563185a90213a26c5da77"
      }
    }
  },
  "nbformat": 4,
  "nbformat_minor": 0
}
