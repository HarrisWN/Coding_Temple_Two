{
 "cells": [
  {
   "cell_type": "markdown",
   "metadata": {},
   "source": [
    "# Parking Garage Project\n",
    "\n",
    "Your assignment for today is to create a parking garage class to get more familiar with Object Oriented Programming(OOP). \n",
    "\n",
    "<!-- Your parking gargage class should have the following methods:\n",
    "- takeTicket\n",
    "   - This should decrease the amount of tickets available by 1\n",
    "   - This should decrease the amount of parkingSpaces available by 1\n",
    "- payForParking\n",
    "   - Display an input that waits for an amount from the user and store it in a variable\n",
    "   - If the payment variable is not empty then ->  display a message to the user that their ticket has been paid and they have 15mins to leave\n",
    "   - This should update the \"currentTicket\" dictionary key \"paid\" to True\n",
    "-leaveGarage\n",
    "   - If the ticket has been paid, display a message of \"Thank You, have a nice day\"\n",
    "   - If the ticket has not been paid, display an input prompt for payment\n",
    "      - Once paid, display message \"Thank you, have a nice day!\"\n",
    "   - Update parkingSpaces list to increase by 1\n",
    "   - Update tickets list to increase by 1\n",
    "\n",
    "You will need a few attributes as well:\n",
    "- tickets -> list\n",
    "- parkingSpaces -> list\n",
    "- currentTicket -> dictionary -->"
   ]
  },
  {
   "cell_type": "code",
   "execution_count": 176,
   "metadata": {},
   "outputs": [
    {
     "name": "stdout",
     "output_type": "stream",
     "text": [
      "your ticket has been paid and you have 15 minutes to leave\n"
     ]
    }
   ],
   "source": [
    "class Garage:\n",
    "    # Class Constructor with four attributes \n",
    "    def __init__(self):\n",
    "        self.cars_added = []        \n",
    "        self.spots = 20        \n",
    "        self.car_info = {}        \n",
    "        self.bill = 0\n",
    "    \n",
    "    def add_car(self):\n",
    "        if self.spots >=  1:\n",
    "             self.spots -= 1\n",
    "        else:\n",
    "            print(f'There are no available spots at this time.')\n",
    "        return self.spots\n",
    "     \n",
    "    def add_car_info(self):\n",
    "        name = input(f'what is your name?')\n",
    "        self.car_info [name] = {\"paid\" : False}\n",
    "        return self.car_info\n",
    "\n",
    "\n",
    "    def pay_for_parking(self):\n",
    "        payment_due = input(\"input amount:int\")\n",
    "        if payment_due != \" \":\n",
    "            print(f'your ticket has been paid and you have 15 minutes to leave')\n",
    "            currentTicket = {'paid': 'true'}\n",
    "        else:\n",
    "            print(f'No payment is due at this time. Thank you.')\n",
    "            \n",
    "\n",
    "my_garage = Garage()\n",
    "my_garage.add_car()\n",
    "my_garage.add_car_info()\n",
    "my_garage.pay_for_parking()\n",
    "#print(available_spots.spots)"
   ]
  },
  {
   "cell_type": "code",
   "execution_count": null,
   "metadata": {},
   "outputs": [],
   "source": []
  }
 ],
 "metadata": {
  "kernelspec": {
   "display_name": "Python 3",
   "language": "python",
   "name": "python3"
  },
  "language_info": {
   "codemirror_mode": {
    "name": "ipython",
    "version": 3
   },
   "file_extension": ".py",
   "mimetype": "text/x-python",
   "name": "python",
   "nbconvert_exporter": "python",
   "pygments_lexer": "ipython3",
   "version": "3.12.0"
  }
 },
 "nbformat": 4,
 "nbformat_minor": 2
}
