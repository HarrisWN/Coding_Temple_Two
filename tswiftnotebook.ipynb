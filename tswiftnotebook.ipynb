{
 "cells": [
  {
   "cell_type": "markdown",
   "metadata": {},
   "source": [
    "Imports"
   ]
  },
  {
   "cell_type": "code",
   "execution_count": 191,
   "metadata": {},
   "outputs": [],
   "source": [
    "import pandas as pd\n",
    "import plotly.express as px\n",
    "import seaborn as sns\n",
    "import matplotlib as plt\n",
    "import sqlite3"
   ]
  },
  {
   "cell_type": "markdown",
   "metadata": {},
   "source": [
    "Read in data"
   ]
  },
  {
   "cell_type": "code",
   "execution_count": 192,
   "metadata": {},
   "outputs": [],
   "source": [
    "swiftdf = pd.read_csv(\"/Users/burnesbrown1/Documents/Coding Temple/Coding_Temple_Two/tableau data pipeline /tswift assignment/taylor_train.csv\", encoding='unicode_escape')"
   ]
  },
  {
   "cell_type": "code",
   "execution_count": 193,
   "metadata": {},
   "outputs": [
    {
     "data": {
      "text/html": [
       "<div>\n",
       "<style scoped>\n",
       "    .dataframe tbody tr th:only-of-type {\n",
       "        vertical-align: middle;\n",
       "    }\n",
       "\n",
       "    .dataframe tbody tr th {\n",
       "        vertical-align: top;\n",
       "    }\n",
       "\n",
       "    .dataframe thead th {\n",
       "        text-align: right;\n",
       "    }\n",
       "</style>\n",
       "<table border=\"1\" class=\"dataframe\">\n",
       "  <thead>\n",
       "    <tr style=\"text-align: right;\">\n",
       "      <th></th>\n",
       "      <th>City</th>\n",
       "      <th>Country</th>\n",
       "      <th>Venue</th>\n",
       "      <th>Opening act(s)</th>\n",
       "      <th>Attendance (tickets sold / available)</th>\n",
       "      <th>Revenue</th>\n",
       "      <th>Tour</th>\n",
       "    </tr>\n",
       "  </thead>\n",
       "  <tbody>\n",
       "    <tr>\n",
       "      <th>0</th>\n",
       "      <td>Evansville</td>\n",
       "      <td>United States</td>\n",
       "      <td>Roberts Municipal Stadium</td>\n",
       "      <td>Gloriana\\r\\nKellie Pickler</td>\n",
       "      <td>7,463 / 7,463</td>\n",
       "      <td>$360,617</td>\n",
       "      <td>Fearless_Tour</td>\n",
       "    </tr>\n",
       "    <tr>\n",
       "      <th>1</th>\n",
       "      <td>Jonesboro</td>\n",
       "      <td>United States</td>\n",
       "      <td>Convocation Center</td>\n",
       "      <td>Gloriana\\r\\nKellie Pickler</td>\n",
       "      <td>7,822 / 7,822</td>\n",
       "      <td>$340,328</td>\n",
       "      <td>Fearless_Tour</td>\n",
       "    </tr>\n",
       "    <tr>\n",
       "      <th>2</th>\n",
       "      <td>St. Louis</td>\n",
       "      <td>United States</td>\n",
       "      <td>Scottrade Center</td>\n",
       "      <td>Gloriana\\r\\nKellie Pickler</td>\n",
       "      <td>13,764 / 13,764</td>\n",
       "      <td>$650,420</td>\n",
       "      <td>Fearless_Tour</td>\n",
       "    </tr>\n",
       "    <tr>\n",
       "      <th>3</th>\n",
       "      <td>Alexandria</td>\n",
       "      <td>United States</td>\n",
       "      <td>Bishop Ireton High School</td>\n",
       "      <td>Gloriana\\r\\nKellie Pickler</td>\n",
       "      <td></td>\n",
       "      <td></td>\n",
       "      <td>Fearless_Tour</td>\n",
       "    </tr>\n",
       "    <tr>\n",
       "      <th>4</th>\n",
       "      <td>North Charleston</td>\n",
       "      <td>United States</td>\n",
       "      <td>North Charleston Coliseum</td>\n",
       "      <td>Gloriana\\r\\nKellie Pickler</td>\n",
       "      <td>8,751 / 8,751</td>\n",
       "      <td>$398,154</td>\n",
       "      <td>Fearless_Tour</td>\n",
       "    </tr>\n",
       "  </tbody>\n",
       "</table>\n",
       "</div>"
      ],
      "text/plain": [
       "               City        Country                      Venue  \\\n",
       "0        Evansville  United States  Roberts Municipal Stadium   \n",
       "1         Jonesboro  United States         Convocation Center   \n",
       "2         St. Louis  United States           Scottrade Center   \n",
       "3        Alexandria  United States  Bishop Ireton High School   \n",
       "4  North Charleston  United States  North Charleston Coliseum   \n",
       "\n",
       "               Opening act(s) Attendance (tickets sold / available)   Revenue  \\\n",
       "0  Gloriana\\r\\nKellie Pickler                         7,463 / 7,463  $360,617   \n",
       "1  Gloriana\\r\\nKellie Pickler                         7,822 / 7,822  $340,328   \n",
       "2  Gloriana\\r\\nKellie Pickler                       13,764 / 13,764  $650,420   \n",
       "3  Gloriana\\r\\nKellie Pickler                                                 \n",
       "4  Gloriana\\r\\nKellie Pickler                         8,751 / 8,751  $398,154   \n",
       "\n",
       "            Tour  \n",
       "0  Fearless_Tour  \n",
       "1  Fearless_Tour  \n",
       "2  Fearless_Tour  \n",
       "3  Fearless_Tour  \n",
       "4  Fearless_Tour  "
      ]
     },
     "execution_count": 193,
     "metadata": {},
     "output_type": "execute_result"
    }
   ],
   "source": [
    "swiftdf.head()"
   ]
  },
  {
   "cell_type": "markdown",
   "metadata": {},
   "source": [
    "Formate opening act column"
   ]
  },
  {
   "cell_type": "code",
   "execution_count": 194,
   "metadata": {},
   "outputs": [],
   "source": [
    "swiftdf['Opening act(s)'] = swiftdf['Opening act(s)'].str.replace('\\r\\n', ' & ') "
   ]
  },
  {
   "cell_type": "code",
   "execution_count": 195,
   "metadata": {},
   "outputs": [
    {
     "data": {
      "text/html": [
       "<div>\n",
       "<style scoped>\n",
       "    .dataframe tbody tr th:only-of-type {\n",
       "        vertical-align: middle;\n",
       "    }\n",
       "\n",
       "    .dataframe tbody tr th {\n",
       "        vertical-align: top;\n",
       "    }\n",
       "\n",
       "    .dataframe thead th {\n",
       "        text-align: right;\n",
       "    }\n",
       "</style>\n",
       "<table border=\"1\" class=\"dataframe\">\n",
       "  <thead>\n",
       "    <tr style=\"text-align: right;\">\n",
       "      <th></th>\n",
       "      <th>City</th>\n",
       "      <th>Country</th>\n",
       "      <th>Venue</th>\n",
       "      <th>Opening act(s)</th>\n",
       "      <th>Attendance (tickets sold / available)</th>\n",
       "      <th>Revenue</th>\n",
       "      <th>Tour</th>\n",
       "    </tr>\n",
       "  </thead>\n",
       "  <tbody>\n",
       "    <tr>\n",
       "      <th>0</th>\n",
       "      <td>Evansville</td>\n",
       "      <td>United States</td>\n",
       "      <td>Roberts Municipal Stadium</td>\n",
       "      <td>Gloriana &amp; Kellie Pickler</td>\n",
       "      <td>7,463 / 7,463</td>\n",
       "      <td>$360,617</td>\n",
       "      <td>Fearless_Tour</td>\n",
       "    </tr>\n",
       "    <tr>\n",
       "      <th>1</th>\n",
       "      <td>Jonesboro</td>\n",
       "      <td>United States</td>\n",
       "      <td>Convocation Center</td>\n",
       "      <td>Gloriana &amp; Kellie Pickler</td>\n",
       "      <td>7,822 / 7,822</td>\n",
       "      <td>$340,328</td>\n",
       "      <td>Fearless_Tour</td>\n",
       "    </tr>\n",
       "    <tr>\n",
       "      <th>2</th>\n",
       "      <td>St. Louis</td>\n",
       "      <td>United States</td>\n",
       "      <td>Scottrade Center</td>\n",
       "      <td>Gloriana &amp; Kellie Pickler</td>\n",
       "      <td>13,764 / 13,764</td>\n",
       "      <td>$650,420</td>\n",
       "      <td>Fearless_Tour</td>\n",
       "    </tr>\n",
       "    <tr>\n",
       "      <th>3</th>\n",
       "      <td>Alexandria</td>\n",
       "      <td>United States</td>\n",
       "      <td>Bishop Ireton High School</td>\n",
       "      <td>Gloriana &amp; Kellie Pickler</td>\n",
       "      <td></td>\n",
       "      <td></td>\n",
       "      <td>Fearless_Tour</td>\n",
       "    </tr>\n",
       "    <tr>\n",
       "      <th>4</th>\n",
       "      <td>North Charleston</td>\n",
       "      <td>United States</td>\n",
       "      <td>North Charleston Coliseum</td>\n",
       "      <td>Gloriana &amp; Kellie Pickler</td>\n",
       "      <td>8,751 / 8,751</td>\n",
       "      <td>$398,154</td>\n",
       "      <td>Fearless_Tour</td>\n",
       "    </tr>\n",
       "  </tbody>\n",
       "</table>\n",
       "</div>"
      ],
      "text/plain": [
       "               City        Country                      Venue  \\\n",
       "0        Evansville  United States  Roberts Municipal Stadium   \n",
       "1         Jonesboro  United States         Convocation Center   \n",
       "2         St. Louis  United States           Scottrade Center   \n",
       "3        Alexandria  United States  Bishop Ireton High School   \n",
       "4  North Charleston  United States  North Charleston Coliseum   \n",
       "\n",
       "              Opening act(s) Attendance (tickets sold / available)   Revenue  \\\n",
       "0  Gloriana & Kellie Pickler                         7,463 / 7,463  $360,617   \n",
       "1  Gloriana & Kellie Pickler                         7,822 / 7,822  $340,328   \n",
       "2  Gloriana & Kellie Pickler                       13,764 / 13,764  $650,420   \n",
       "3  Gloriana & Kellie Pickler                                                 \n",
       "4  Gloriana & Kellie Pickler                         8,751 / 8,751  $398,154   \n",
       "\n",
       "            Tour  \n",
       "0  Fearless_Tour  \n",
       "1  Fearless_Tour  \n",
       "2  Fearless_Tour  \n",
       "3  Fearless_Tour  \n",
       "4  Fearless_Tour  "
      ]
     },
     "execution_count": 195,
     "metadata": {},
     "output_type": "execute_result"
    }
   ],
   "source": [
    "swiftdf.head()"
   ]
  },
  {
   "cell_type": "code",
   "execution_count": 196,
   "metadata": {},
   "outputs": [],
   "source": [
    "#Clean Revenue\n",
    "swiftdf[['$', 'Revenue']] = swiftdf['Revenue'].str.split('$', expand=True)"
   ]
  },
  {
   "cell_type": "code",
   "execution_count": 197,
   "metadata": {},
   "outputs": [
    {
     "data": {
      "text/html": [
       "<div>\n",
       "<style scoped>\n",
       "    .dataframe tbody tr th:only-of-type {\n",
       "        vertical-align: middle;\n",
       "    }\n",
       "\n",
       "    .dataframe tbody tr th {\n",
       "        vertical-align: top;\n",
       "    }\n",
       "\n",
       "    .dataframe thead th {\n",
       "        text-align: right;\n",
       "    }\n",
       "</style>\n",
       "<table border=\"1\" class=\"dataframe\">\n",
       "  <thead>\n",
       "    <tr style=\"text-align: right;\">\n",
       "      <th></th>\n",
       "      <th>City</th>\n",
       "      <th>Country</th>\n",
       "      <th>Venue</th>\n",
       "      <th>Opening act(s)</th>\n",
       "      <th>Attendance (tickets sold / available)</th>\n",
       "      <th>Revenue</th>\n",
       "      <th>Tour</th>\n",
       "      <th>$</th>\n",
       "    </tr>\n",
       "  </thead>\n",
       "  <tbody>\n",
       "    <tr>\n",
       "      <th>0</th>\n",
       "      <td>Evansville</td>\n",
       "      <td>United States</td>\n",
       "      <td>Roberts Municipal Stadium</td>\n",
       "      <td>Gloriana &amp; Kellie Pickler</td>\n",
       "      <td>7,463 / 7,463</td>\n",
       "      <td>360,617</td>\n",
       "      <td>Fearless_Tour</td>\n",
       "      <td></td>\n",
       "    </tr>\n",
       "    <tr>\n",
       "      <th>1</th>\n",
       "      <td>Jonesboro</td>\n",
       "      <td>United States</td>\n",
       "      <td>Convocation Center</td>\n",
       "      <td>Gloriana &amp; Kellie Pickler</td>\n",
       "      <td>7,822 / 7,822</td>\n",
       "      <td>340,328</td>\n",
       "      <td>Fearless_Tour</td>\n",
       "      <td></td>\n",
       "    </tr>\n",
       "    <tr>\n",
       "      <th>2</th>\n",
       "      <td>St. Louis</td>\n",
       "      <td>United States</td>\n",
       "      <td>Scottrade Center</td>\n",
       "      <td>Gloriana &amp; Kellie Pickler</td>\n",
       "      <td>13,764 / 13,764</td>\n",
       "      <td>650,420</td>\n",
       "      <td>Fearless_Tour</td>\n",
       "      <td></td>\n",
       "    </tr>\n",
       "    <tr>\n",
       "      <th>3</th>\n",
       "      <td>Alexandria</td>\n",
       "      <td>United States</td>\n",
       "      <td>Bishop Ireton High School</td>\n",
       "      <td>Gloriana &amp; Kellie Pickler</td>\n",
       "      <td></td>\n",
       "      <td>None</td>\n",
       "      <td>Fearless_Tour</td>\n",
       "      <td></td>\n",
       "    </tr>\n",
       "    <tr>\n",
       "      <th>4</th>\n",
       "      <td>North Charleston</td>\n",
       "      <td>United States</td>\n",
       "      <td>North Charleston Coliseum</td>\n",
       "      <td>Gloriana &amp; Kellie Pickler</td>\n",
       "      <td>8,751 / 8,751</td>\n",
       "      <td>398,154</td>\n",
       "      <td>Fearless_Tour</td>\n",
       "      <td></td>\n",
       "    </tr>\n",
       "  </tbody>\n",
       "</table>\n",
       "</div>"
      ],
      "text/plain": [
       "               City        Country                      Venue  \\\n",
       "0        Evansville  United States  Roberts Municipal Stadium   \n",
       "1         Jonesboro  United States         Convocation Center   \n",
       "2         St. Louis  United States           Scottrade Center   \n",
       "3        Alexandria  United States  Bishop Ireton High School   \n",
       "4  North Charleston  United States  North Charleston Coliseum   \n",
       "\n",
       "              Opening act(s) Attendance (tickets sold / available)  Revenue  \\\n",
       "0  Gloriana & Kellie Pickler                         7,463 / 7,463  360,617   \n",
       "1  Gloriana & Kellie Pickler                         7,822 / 7,822  340,328   \n",
       "2  Gloriana & Kellie Pickler                       13,764 / 13,764  650,420   \n",
       "3  Gloriana & Kellie Pickler                                          None   \n",
       "4  Gloriana & Kellie Pickler                         8,751 / 8,751  398,154   \n",
       "\n",
       "            Tour  $  \n",
       "0  Fearless_Tour     \n",
       "1  Fearless_Tour     \n",
       "2  Fearless_Tour     \n",
       "3  Fearless_Tour    \n",
       "4  Fearless_Tour     "
      ]
     },
     "execution_count": 197,
     "metadata": {},
     "output_type": "execute_result"
    }
   ],
   "source": [
    "swiftdf.head()"
   ]
  },
  {
   "cell_type": "markdown",
   "metadata": {},
   "source": [
    "Split ticket sold and ticket available"
   ]
  },
  {
   "cell_type": "code",
   "execution_count": 198,
   "metadata": {},
   "outputs": [
    {
     "data": {
      "text/html": [
       "<div>\n",
       "<style scoped>\n",
       "    .dataframe tbody tr th:only-of-type {\n",
       "        vertical-align: middle;\n",
       "    }\n",
       "\n",
       "    .dataframe tbody tr th {\n",
       "        vertical-align: top;\n",
       "    }\n",
       "\n",
       "    .dataframe thead th {\n",
       "        text-align: right;\n",
       "    }\n",
       "</style>\n",
       "<table border=\"1\" class=\"dataframe\">\n",
       "  <thead>\n",
       "    <tr style=\"text-align: right;\">\n",
       "      <th></th>\n",
       "      <th>ticket sold</th>\n",
       "      <th>ticket available</th>\n",
       "    </tr>\n",
       "  </thead>\n",
       "  <tbody>\n",
       "    <tr>\n",
       "      <th>0</th>\n",
       "      <td>7,463</td>\n",
       "      <td>7,463</td>\n",
       "    </tr>\n",
       "    <tr>\n",
       "      <th>1</th>\n",
       "      <td>7,822</td>\n",
       "      <td>7,822</td>\n",
       "    </tr>\n",
       "    <tr>\n",
       "      <th>2</th>\n",
       "      <td>13,764</td>\n",
       "      <td>13,764</td>\n",
       "    </tr>\n",
       "    <tr>\n",
       "      <th>3</th>\n",
       "      <td></td>\n",
       "      <td>None</td>\n",
       "    </tr>\n",
       "    <tr>\n",
       "      <th>4</th>\n",
       "      <td>8,751</td>\n",
       "      <td>8,751</td>\n",
       "    </tr>\n",
       "    <tr>\n",
       "      <th>...</th>\n",
       "      <td>...</td>\n",
       "      <td>...</td>\n",
       "    </tr>\n",
       "    <tr>\n",
       "      <th>440</th>\n",
       "      <td>72,805</td>\n",
       "      <td>72,805</td>\n",
       "    </tr>\n",
       "    <tr>\n",
       "      <th>441</th>\n",
       "      <td>43,907</td>\n",
       "      <td>43,907</td>\n",
       "    </tr>\n",
       "    <tr>\n",
       "      <th>442</th>\n",
       "      <td>35,749</td>\n",
       "      <td>35,749</td>\n",
       "    </tr>\n",
       "    <tr>\n",
       "      <th>443</th>\n",
       "      <td>100,109</td>\n",
       "      <td>100,109</td>\n",
       "    </tr>\n",
       "    <tr>\n",
       "      <th>444</th>\n",
       "      <td>100,109</td>\n",
       "      <td>100,109</td>\n",
       "    </tr>\n",
       "  </tbody>\n",
       "</table>\n",
       "<p>445 rows × 2 columns</p>\n",
       "</div>"
      ],
      "text/plain": [
       "    ticket sold ticket available\n",
       "0        7,463             7,463\n",
       "1        7,822             7,822\n",
       "2       13,764            13,764\n",
       "3                          None\n",
       "4        8,751             8,751\n",
       "..          ...              ...\n",
       "440     72,805            72,805\n",
       "441     43,907            43,907\n",
       "442     35,749            35,749\n",
       "443    100,109           100,109\n",
       "444    100,109           100,109\n",
       "\n",
       "[445 rows x 2 columns]"
      ]
     },
     "execution_count": 198,
     "metadata": {},
     "output_type": "execute_result"
    }
   ],
   "source": [
    "swiftdf[['ticket sold', 'ticket available']] = swiftdf['Attendance (tickets sold / available)'].str.split('/', expand=True)\n",
    "swiftdf[['ticket sold', 'ticket available']] "
   ]
  },
  {
   "cell_type": "markdown",
   "metadata": {},
   "source": [
    "Remove commas from numbers"
   ]
  },
  {
   "cell_type": "code",
   "execution_count": 199,
   "metadata": {},
   "outputs": [],
   "source": [
    "swiftdf[\"Revenue\"] = swiftdf[\"Revenue\"].str.replace(',','')\n",
    "swiftdf[\"ticket sold\"] = swiftdf[\"ticket sold\"].str.replace(',','')\n",
    "swiftdf[\"ticket available\"] = swiftdf[\"ticket available\"].str.replace(',','')\n"
   ]
  },
  {
   "cell_type": "code",
   "execution_count": 200,
   "metadata": {},
   "outputs": [
    {
     "data": {
      "text/html": [
       "<div>\n",
       "<style scoped>\n",
       "    .dataframe tbody tr th:only-of-type {\n",
       "        vertical-align: middle;\n",
       "    }\n",
       "\n",
       "    .dataframe tbody tr th {\n",
       "        vertical-align: top;\n",
       "    }\n",
       "\n",
       "    .dataframe thead th {\n",
       "        text-align: right;\n",
       "    }\n",
       "</style>\n",
       "<table border=\"1\" class=\"dataframe\">\n",
       "  <thead>\n",
       "    <tr style=\"text-align: right;\">\n",
       "      <th></th>\n",
       "      <th>City</th>\n",
       "      <th>Country</th>\n",
       "      <th>Venue</th>\n",
       "      <th>Opening act(s)</th>\n",
       "      <th>Attendance (tickets sold / available)</th>\n",
       "      <th>Revenue</th>\n",
       "      <th>Tour</th>\n",
       "      <th>$</th>\n",
       "      <th>ticket sold</th>\n",
       "      <th>ticket available</th>\n",
       "    </tr>\n",
       "  </thead>\n",
       "  <tbody>\n",
       "    <tr>\n",
       "      <th>0</th>\n",
       "      <td>Evansville</td>\n",
       "      <td>United States</td>\n",
       "      <td>Roberts Municipal Stadium</td>\n",
       "      <td>Gloriana &amp; Kellie Pickler</td>\n",
       "      <td>7,463 / 7,463</td>\n",
       "      <td>360617</td>\n",
       "      <td>Fearless_Tour</td>\n",
       "      <td></td>\n",
       "      <td>7463</td>\n",
       "      <td>7463</td>\n",
       "    </tr>\n",
       "    <tr>\n",
       "      <th>1</th>\n",
       "      <td>Jonesboro</td>\n",
       "      <td>United States</td>\n",
       "      <td>Convocation Center</td>\n",
       "      <td>Gloriana &amp; Kellie Pickler</td>\n",
       "      <td>7,822 / 7,822</td>\n",
       "      <td>340328</td>\n",
       "      <td>Fearless_Tour</td>\n",
       "      <td></td>\n",
       "      <td>7822</td>\n",
       "      <td>7822</td>\n",
       "    </tr>\n",
       "    <tr>\n",
       "      <th>2</th>\n",
       "      <td>St. Louis</td>\n",
       "      <td>United States</td>\n",
       "      <td>Scottrade Center</td>\n",
       "      <td>Gloriana &amp; Kellie Pickler</td>\n",
       "      <td>13,764 / 13,764</td>\n",
       "      <td>650420</td>\n",
       "      <td>Fearless_Tour</td>\n",
       "      <td></td>\n",
       "      <td>13764</td>\n",
       "      <td>13764</td>\n",
       "    </tr>\n",
       "    <tr>\n",
       "      <th>3</th>\n",
       "      <td>Alexandria</td>\n",
       "      <td>United States</td>\n",
       "      <td>Bishop Ireton High School</td>\n",
       "      <td>Gloriana &amp; Kellie Pickler</td>\n",
       "      <td></td>\n",
       "      <td>None</td>\n",
       "      <td>Fearless_Tour</td>\n",
       "      <td></td>\n",
       "      <td></td>\n",
       "      <td>None</td>\n",
       "    </tr>\n",
       "    <tr>\n",
       "      <th>4</th>\n",
       "      <td>North Charleston</td>\n",
       "      <td>United States</td>\n",
       "      <td>North Charleston Coliseum</td>\n",
       "      <td>Gloriana &amp; Kellie Pickler</td>\n",
       "      <td>8,751 / 8,751</td>\n",
       "      <td>398154</td>\n",
       "      <td>Fearless_Tour</td>\n",
       "      <td></td>\n",
       "      <td>8751</td>\n",
       "      <td>8751</td>\n",
       "    </tr>\n",
       "  </tbody>\n",
       "</table>\n",
       "</div>"
      ],
      "text/plain": [
       "               City        Country                      Venue  \\\n",
       "0        Evansville  United States  Roberts Municipal Stadium   \n",
       "1         Jonesboro  United States         Convocation Center   \n",
       "2         St. Louis  United States           Scottrade Center   \n",
       "3        Alexandria  United States  Bishop Ireton High School   \n",
       "4  North Charleston  United States  North Charleston Coliseum   \n",
       "\n",
       "              Opening act(s) Attendance (tickets sold / available) Revenue  \\\n",
       "0  Gloriana & Kellie Pickler                         7,463 / 7,463  360617   \n",
       "1  Gloriana & Kellie Pickler                         7,822 / 7,822  340328   \n",
       "2  Gloriana & Kellie Pickler                       13,764 / 13,764  650420   \n",
       "3  Gloriana & Kellie Pickler                                         None   \n",
       "4  Gloriana & Kellie Pickler                         8,751 / 8,751  398154   \n",
       "\n",
       "            Tour  $ ticket sold ticket available  \n",
       "0  Fearless_Tour          7463              7463  \n",
       "1  Fearless_Tour          7822              7822  \n",
       "2  Fearless_Tour         13764             13764  \n",
       "3  Fearless_Tour                          None  \n",
       "4  Fearless_Tour          8751              8751  "
      ]
     },
     "execution_count": 200,
     "metadata": {},
     "output_type": "execute_result"
    }
   ],
   "source": [
    "swiftdf.head()"
   ]
  },
  {
   "cell_type": "code",
   "execution_count": 201,
   "metadata": {},
   "outputs": [
    {
     "data": {
      "text/html": [
       "<div>\n",
       "<style scoped>\n",
       "    .dataframe tbody tr th:only-of-type {\n",
       "        vertical-align: middle;\n",
       "    }\n",
       "\n",
       "    .dataframe tbody tr th {\n",
       "        vertical-align: top;\n",
       "    }\n",
       "\n",
       "    .dataframe thead th {\n",
       "        text-align: right;\n",
       "    }\n",
       "</style>\n",
       "<table border=\"1\" class=\"dataframe\">\n",
       "  <thead>\n",
       "    <tr style=\"text-align: right;\">\n",
       "      <th></th>\n",
       "      <th>City</th>\n",
       "      <th>Country</th>\n",
       "      <th>Venue</th>\n",
       "      <th>Opening act(s)</th>\n",
       "      <th>Attendance (tickets sold / available)</th>\n",
       "      <th>Revenue</th>\n",
       "      <th>Tour</th>\n",
       "      <th>$</th>\n",
       "      <th>ticket sold</th>\n",
       "      <th>ticket available</th>\n",
       "    </tr>\n",
       "  </thead>\n",
       "  <tbody>\n",
       "    <tr>\n",
       "      <th>0</th>\n",
       "      <td>Evansville</td>\n",
       "      <td>United States</td>\n",
       "      <td>Roberts Municipal Stadium</td>\n",
       "      <td>Gloriana &amp; Kellie Pickler</td>\n",
       "      <td>7,463 / 7,463</td>\n",
       "      <td>360617</td>\n",
       "      <td>Fearless_Tour</td>\n",
       "      <td></td>\n",
       "      <td>7463</td>\n",
       "      <td>7463</td>\n",
       "    </tr>\n",
       "    <tr>\n",
       "      <th>1</th>\n",
       "      <td>Jonesboro</td>\n",
       "      <td>United States</td>\n",
       "      <td>Convocation Center</td>\n",
       "      <td>Gloriana &amp; Kellie Pickler</td>\n",
       "      <td>7,822 / 7,822</td>\n",
       "      <td>340328</td>\n",
       "      <td>Fearless_Tour</td>\n",
       "      <td></td>\n",
       "      <td>7822</td>\n",
       "      <td>7822</td>\n",
       "    </tr>\n",
       "    <tr>\n",
       "      <th>2</th>\n",
       "      <td>St. Louis</td>\n",
       "      <td>United States</td>\n",
       "      <td>Scottrade Center</td>\n",
       "      <td>Gloriana &amp; Kellie Pickler</td>\n",
       "      <td>13,764 / 13,764</td>\n",
       "      <td>650420</td>\n",
       "      <td>Fearless_Tour</td>\n",
       "      <td></td>\n",
       "      <td>13764</td>\n",
       "      <td>13764</td>\n",
       "    </tr>\n",
       "    <tr>\n",
       "      <th>3</th>\n",
       "      <td>Alexandria</td>\n",
       "      <td>United States</td>\n",
       "      <td>Bishop Ireton High School</td>\n",
       "      <td>Gloriana &amp; Kellie Pickler</td>\n",
       "      <td></td>\n",
       "      <td>None</td>\n",
       "      <td>Fearless_Tour</td>\n",
       "      <td></td>\n",
       "      <td></td>\n",
       "      <td>None</td>\n",
       "    </tr>\n",
       "    <tr>\n",
       "      <th>4</th>\n",
       "      <td>North Charleston</td>\n",
       "      <td>United States</td>\n",
       "      <td>North Charleston Coliseum</td>\n",
       "      <td>Gloriana &amp; Kellie Pickler</td>\n",
       "      <td>8,751 / 8,751</td>\n",
       "      <td>398154</td>\n",
       "      <td>Fearless_Tour</td>\n",
       "      <td></td>\n",
       "      <td>8751</td>\n",
       "      <td>8751</td>\n",
       "    </tr>\n",
       "  </tbody>\n",
       "</table>\n",
       "</div>"
      ],
      "text/plain": [
       "               City        Country                      Venue  \\\n",
       "0        Evansville  United States  Roberts Municipal Stadium   \n",
       "1         Jonesboro  United States         Convocation Center   \n",
       "2         St. Louis  United States           Scottrade Center   \n",
       "3        Alexandria  United States  Bishop Ireton High School   \n",
       "4  North Charleston  United States  North Charleston Coliseum   \n",
       "\n",
       "              Opening act(s) Attendance (tickets sold / available) Revenue  \\\n",
       "0  Gloriana & Kellie Pickler                         7,463 / 7,463  360617   \n",
       "1  Gloriana & Kellie Pickler                         7,822 / 7,822  340328   \n",
       "2  Gloriana & Kellie Pickler                       13,764 / 13,764  650420   \n",
       "3  Gloriana & Kellie Pickler                                         None   \n",
       "4  Gloriana & Kellie Pickler                         8,751 / 8,751  398154   \n",
       "\n",
       "            Tour  $ ticket sold ticket available  \n",
       "0  Fearless_Tour          7463              7463  \n",
       "1  Fearless_Tour          7822              7822  \n",
       "2  Fearless_Tour         13764             13764  \n",
       "3  Fearless_Tour                          None  \n",
       "4  Fearless_Tour          8751              8751  "
      ]
     },
     "execution_count": 201,
     "metadata": {},
     "output_type": "execute_result"
    }
   ],
   "source": [
    "swiftdf[\"ticket sold\"] = swiftdf[\"ticket sold\"].str.replace(',','')\n",
    "swiftdf[\"ticket available\"] = swiftdf[\"ticket available\"].str.replace(',','')\n",
    "swiftdf.head()"
   ]
  },
  {
   "cell_type": "code",
   "execution_count": 202,
   "metadata": {},
   "outputs": [
    {
     "name": "stdout",
     "output_type": "stream",
     "text": [
      "<class 'pandas.core.frame.DataFrame'>\n",
      "RangeIndex: 445 entries, 0 to 444\n",
      "Data columns (total 10 columns):\n",
      " #   Column                                 Non-Null Count  Dtype \n",
      "---  ------                                 --------------  ----- \n",
      " 0   City                                   445 non-null    object\n",
      " 1   Country                                445 non-null    object\n",
      " 2   Venue                                  445 non-null    object\n",
      " 3   Opening act(s)                         444 non-null    object\n",
      " 4   Attendance (tickets sold / available)  442 non-null    object\n",
      " 5   Revenue                                406 non-null    object\n",
      " 6   Tour                                   445 non-null    object\n",
      " 7   $                                      442 non-null    object\n",
      " 8   ticket sold                            442 non-null    object\n",
      " 9   ticket available                       407 non-null    object\n",
      "dtypes: object(10)\n",
      "memory usage: 34.9+ KB\n"
     ]
    }
   ],
   "source": [
    "swiftdf.info()"
   ]
  },
  {
   "cell_type": "code",
   "execution_count": 203,
   "metadata": {},
   "outputs": [
    {
     "data": {
      "text/html": [
       "<div>\n",
       "<style scoped>\n",
       "    .dataframe tbody tr th:only-of-type {\n",
       "        vertical-align: middle;\n",
       "    }\n",
       "\n",
       "    .dataframe tbody tr th {\n",
       "        vertical-align: top;\n",
       "    }\n",
       "\n",
       "    .dataframe thead th {\n",
       "        text-align: right;\n",
       "    }\n",
       "</style>\n",
       "<table border=\"1\" class=\"dataframe\">\n",
       "  <thead>\n",
       "    <tr style=\"text-align: right;\">\n",
       "      <th></th>\n",
       "      <th>City</th>\n",
       "      <th>Country</th>\n",
       "      <th>Venue</th>\n",
       "      <th>Opening act(s)</th>\n",
       "      <th>Attendance (tickets sold / available)</th>\n",
       "      <th>Revenue</th>\n",
       "      <th>Tour</th>\n",
       "      <th>$</th>\n",
       "      <th>ticket sold</th>\n",
       "      <th>ticket available</th>\n",
       "    </tr>\n",
       "  </thead>\n",
       "  <tbody>\n",
       "    <tr>\n",
       "      <th>0</th>\n",
       "      <td>Evansville</td>\n",
       "      <td>United States</td>\n",
       "      <td>Roberts Municipal Stadium</td>\n",
       "      <td>Gloriana &amp; Kellie Pickler</td>\n",
       "      <td>7,463 / 7,463</td>\n",
       "      <td>360617</td>\n",
       "      <td>Fearless_Tour</td>\n",
       "      <td></td>\n",
       "      <td>7463</td>\n",
       "      <td>7463</td>\n",
       "    </tr>\n",
       "    <tr>\n",
       "      <th>1</th>\n",
       "      <td>Jonesboro</td>\n",
       "      <td>United States</td>\n",
       "      <td>Convocation Center</td>\n",
       "      <td>Gloriana &amp; Kellie Pickler</td>\n",
       "      <td>7,822 / 7,822</td>\n",
       "      <td>340328</td>\n",
       "      <td>Fearless_Tour</td>\n",
       "      <td></td>\n",
       "      <td>7822</td>\n",
       "      <td>7822</td>\n",
       "    </tr>\n",
       "    <tr>\n",
       "      <th>2</th>\n",
       "      <td>St. Louis</td>\n",
       "      <td>United States</td>\n",
       "      <td>Scottrade Center</td>\n",
       "      <td>Gloriana &amp; Kellie Pickler</td>\n",
       "      <td>13,764 / 13,764</td>\n",
       "      <td>650420</td>\n",
       "      <td>Fearless_Tour</td>\n",
       "      <td></td>\n",
       "      <td>13764</td>\n",
       "      <td>13764</td>\n",
       "    </tr>\n",
       "    <tr>\n",
       "      <th>3</th>\n",
       "      <td>Alexandria</td>\n",
       "      <td>United States</td>\n",
       "      <td>Bishop Ireton High School</td>\n",
       "      <td>Gloriana &amp; Kellie Pickler</td>\n",
       "      <td></td>\n",
       "      <td>None</td>\n",
       "      <td>Fearless_Tour</td>\n",
       "      <td></td>\n",
       "      <td></td>\n",
       "      <td>None</td>\n",
       "    </tr>\n",
       "    <tr>\n",
       "      <th>4</th>\n",
       "      <td>North Charleston</td>\n",
       "      <td>United States</td>\n",
       "      <td>North Charleston Coliseum</td>\n",
       "      <td>Gloriana &amp; Kellie Pickler</td>\n",
       "      <td>8,751 / 8,751</td>\n",
       "      <td>398154</td>\n",
       "      <td>Fearless_Tour</td>\n",
       "      <td></td>\n",
       "      <td>8751</td>\n",
       "      <td>8751</td>\n",
       "    </tr>\n",
       "  </tbody>\n",
       "</table>\n",
       "</div>"
      ],
      "text/plain": [
       "               City        Country                      Venue  \\\n",
       "0        Evansville  United States  Roberts Municipal Stadium   \n",
       "1         Jonesboro  United States         Convocation Center   \n",
       "2         St. Louis  United States           Scottrade Center   \n",
       "3        Alexandria  United States  Bishop Ireton High School   \n",
       "4  North Charleston  United States  North Charleston Coliseum   \n",
       "\n",
       "              Opening act(s) Attendance (tickets sold / available) Revenue  \\\n",
       "0  Gloriana & Kellie Pickler                         7,463 / 7,463  360617   \n",
       "1  Gloriana & Kellie Pickler                         7,822 / 7,822  340328   \n",
       "2  Gloriana & Kellie Pickler                       13,764 / 13,764  650420   \n",
       "3  Gloriana & Kellie Pickler                                         None   \n",
       "4  Gloriana & Kellie Pickler                         8,751 / 8,751  398154   \n",
       "\n",
       "            Tour  $ ticket sold ticket available  \n",
       "0  Fearless_Tour          7463              7463  \n",
       "1  Fearless_Tour          7822              7822  \n",
       "2  Fearless_Tour         13764             13764  \n",
       "3  Fearless_Tour                          None  \n",
       "4  Fearless_Tour          8751              8751  "
      ]
     },
     "execution_count": 203,
     "metadata": {},
     "output_type": "execute_result"
    }
   ],
   "source": [
    "swiftdf.head()"
   ]
  },
  {
   "cell_type": "markdown",
   "metadata": {},
   "source": [
    "Manage data types"
   ]
  },
  {
   "cell_type": "code",
   "execution_count": 204,
   "metadata": {},
   "outputs": [],
   "source": [
    "#tickets available to number and fill null with mean\n",
    "swiftdf['ticket available'] = pd.to_numeric(swiftdf['ticket available'], errors='coerce')\n",
    "fill_available = swiftdf['ticket available'].mean()\n",
    "swiftdf['ticket available'].fillna(fill_available, inplace=True)"
   ]
  },
  {
   "cell_type": "code",
   "execution_count": 205,
   "metadata": {},
   "outputs": [],
   "source": [
    "swiftdf['ticket sold'] = pd.to_numeric(swiftdf['ticket sold'], errors='coerce')\n",
    "fill_available = swiftdf['ticket sold'].mean()\n",
    "swiftdf['ticket sold'].fillna(fill_available, inplace=True)"
   ]
  },
  {
   "cell_type": "code",
   "execution_count": 206,
   "metadata": {},
   "outputs": [],
   "source": [
    "swiftdf['Revenue'] = pd.to_numeric(swiftdf['Revenue'], errors='coerce')\n",
    "fill_available = swiftdf['Revenue'].mean()\n",
    "swiftdf['Revenue'].fillna(fill_available, inplace=True)"
   ]
  },
  {
   "cell_type": "code",
   "execution_count": 207,
   "metadata": {},
   "outputs": [
    {
     "name": "stdout",
     "output_type": "stream",
     "text": [
      "<class 'pandas.core.frame.DataFrame'>\n",
      "RangeIndex: 445 entries, 0 to 444\n",
      "Data columns (total 10 columns):\n",
      " #   Column                                 Non-Null Count  Dtype  \n",
      "---  ------                                 --------------  -----  \n",
      " 0   City                                   445 non-null    object \n",
      " 1   Country                                445 non-null    object \n",
      " 2   Venue                                  445 non-null    object \n",
      " 3   Opening act(s)                         444 non-null    object \n",
      " 4   Attendance (tickets sold / available)  442 non-null    object \n",
      " 5   Revenue                                445 non-null    float64\n",
      " 6   Tour                                   445 non-null    object \n",
      " 7   $                                      442 non-null    object \n",
      " 8   ticket sold                            445 non-null    float64\n",
      " 9   ticket available                       445 non-null    float64\n",
      "dtypes: float64(3), object(7)\n",
      "memory usage: 34.9+ KB\n"
     ]
    }
   ],
   "source": [
    "swiftdf.info()"
   ]
  },
  {
   "cell_type": "code",
   "execution_count": 208,
   "metadata": {},
   "outputs": [
    {
     "data": {
      "text/html": [
       "<div>\n",
       "<style scoped>\n",
       "    .dataframe tbody tr th:only-of-type {\n",
       "        vertical-align: middle;\n",
       "    }\n",
       "\n",
       "    .dataframe tbody tr th {\n",
       "        vertical-align: top;\n",
       "    }\n",
       "\n",
       "    .dataframe thead th {\n",
       "        text-align: right;\n",
       "    }\n",
       "</style>\n",
       "<table border=\"1\" class=\"dataframe\">\n",
       "  <thead>\n",
       "    <tr style=\"text-align: right;\">\n",
       "      <th></th>\n",
       "      <th>City</th>\n",
       "      <th>Country</th>\n",
       "      <th>Venue</th>\n",
       "      <th>Opening act(s)</th>\n",
       "      <th>Attendance (tickets sold / available)</th>\n",
       "      <th>Revenue</th>\n",
       "      <th>Tour</th>\n",
       "      <th>$</th>\n",
       "      <th>ticket sold</th>\n",
       "      <th>ticket available</th>\n",
       "    </tr>\n",
       "  </thead>\n",
       "  <tbody>\n",
       "    <tr>\n",
       "      <th>0</th>\n",
       "      <td>Evansville</td>\n",
       "      <td>United States</td>\n",
       "      <td>Roberts Municipal Stadium</td>\n",
       "      <td>Gloriana &amp; Kellie Pickler</td>\n",
       "      <td>7,463 / 7,463</td>\n",
       "      <td>3.606170e+05</td>\n",
       "      <td>Fearless_Tour</td>\n",
       "      <td></td>\n",
       "      <td>7463.000000</td>\n",
       "      <td>7463.000000</td>\n",
       "    </tr>\n",
       "    <tr>\n",
       "      <th>1</th>\n",
       "      <td>Jonesboro</td>\n",
       "      <td>United States</td>\n",
       "      <td>Convocation Center</td>\n",
       "      <td>Gloriana &amp; Kellie Pickler</td>\n",
       "      <td>7,822 / 7,822</td>\n",
       "      <td>3.403280e+05</td>\n",
       "      <td>Fearless_Tour</td>\n",
       "      <td></td>\n",
       "      <td>7822.000000</td>\n",
       "      <td>7822.000000</td>\n",
       "    </tr>\n",
       "    <tr>\n",
       "      <th>2</th>\n",
       "      <td>St. Louis</td>\n",
       "      <td>United States</td>\n",
       "      <td>Scottrade Center</td>\n",
       "      <td>Gloriana &amp; Kellie Pickler</td>\n",
       "      <td>13,764 / 13,764</td>\n",
       "      <td>6.504200e+05</td>\n",
       "      <td>Fearless_Tour</td>\n",
       "      <td></td>\n",
       "      <td>13764.000000</td>\n",
       "      <td>13764.000000</td>\n",
       "    </tr>\n",
       "    <tr>\n",
       "      <th>3</th>\n",
       "      <td>Alexandria</td>\n",
       "      <td>United States</td>\n",
       "      <td>Bishop Ireton High School</td>\n",
       "      <td>Gloriana &amp; Kellie Pickler</td>\n",
       "      <td></td>\n",
       "      <td>3.892357e+06</td>\n",
       "      <td>Fearless_Tour</td>\n",
       "      <td></td>\n",
       "      <td>38954.904177</td>\n",
       "      <td>39002.093366</td>\n",
       "    </tr>\n",
       "    <tr>\n",
       "      <th>4</th>\n",
       "      <td>North Charleston</td>\n",
       "      <td>United States</td>\n",
       "      <td>North Charleston Coliseum</td>\n",
       "      <td>Gloriana &amp; Kellie Pickler</td>\n",
       "      <td>8,751 / 8,751</td>\n",
       "      <td>3.981540e+05</td>\n",
       "      <td>Fearless_Tour</td>\n",
       "      <td></td>\n",
       "      <td>8751.000000</td>\n",
       "      <td>8751.000000</td>\n",
       "    </tr>\n",
       "  </tbody>\n",
       "</table>\n",
       "</div>"
      ],
      "text/plain": [
       "               City        Country                      Venue  \\\n",
       "0        Evansville  United States  Roberts Municipal Stadium   \n",
       "1         Jonesboro  United States         Convocation Center   \n",
       "2         St. Louis  United States           Scottrade Center   \n",
       "3        Alexandria  United States  Bishop Ireton High School   \n",
       "4  North Charleston  United States  North Charleston Coliseum   \n",
       "\n",
       "              Opening act(s) Attendance (tickets sold / available)  \\\n",
       "0  Gloriana & Kellie Pickler                         7,463 / 7,463   \n",
       "1  Gloriana & Kellie Pickler                         7,822 / 7,822   \n",
       "2  Gloriana & Kellie Pickler                       13,764 / 13,764   \n",
       "3  Gloriana & Kellie Pickler                                        \n",
       "4  Gloriana & Kellie Pickler                         8,751 / 8,751   \n",
       "\n",
       "        Revenue           Tour  $   ticket sold  ticket available  \n",
       "0  3.606170e+05  Fearless_Tour      7463.000000       7463.000000  \n",
       "1  3.403280e+05  Fearless_Tour      7822.000000       7822.000000  \n",
       "2  6.504200e+05  Fearless_Tour     13764.000000      13764.000000  \n",
       "3  3.892357e+06  Fearless_Tour    38954.904177      39002.093366  \n",
       "4  3.981540e+05  Fearless_Tour      8751.000000       8751.000000  "
      ]
     },
     "execution_count": 208,
     "metadata": {},
     "output_type": "execute_result"
    }
   ],
   "source": [
    "swiftdf.head()"
   ]
  },
  {
   "cell_type": "markdown",
   "metadata": {},
   "source": [
    "Drop unncesary columns "
   ]
  },
  {
   "cell_type": "code",
   "execution_count": 209,
   "metadata": {},
   "outputs": [
    {
     "name": "stdout",
     "output_type": "stream",
     "text": [
      "<class 'pandas.core.frame.DataFrame'>\n",
      "RangeIndex: 445 entries, 0 to 444\n",
      "Data columns (total 10 columns):\n",
      " #   Column                                 Non-Null Count  Dtype  \n",
      "---  ------                                 --------------  -----  \n",
      " 0   City                                   445 non-null    object \n",
      " 1   Country                                445 non-null    object \n",
      " 2   Venue                                  445 non-null    object \n",
      " 3   Opening act(s)                         444 non-null    object \n",
      " 4   Attendance (tickets sold / available)  442 non-null    object \n",
      " 5   Revenue                                445 non-null    float64\n",
      " 6   Tour                                   445 non-null    object \n",
      " 7   $                                      442 non-null    object \n",
      " 8   ticket sold                            445 non-null    float64\n",
      " 9   ticket available                       445 non-null    float64\n",
      "dtypes: float64(3), object(7)\n",
      "memory usage: 34.9+ KB\n"
     ]
    }
   ],
   "source": [
    "swiftdf.info()"
   ]
  },
  {
   "cell_type": "code",
   "execution_count": 210,
   "metadata": {},
   "outputs": [
    {
     "data": {
      "text/plain": [
       "City                                     0\n",
       "Country                                  0\n",
       "Venue                                    0\n",
       "Opening act(s)                           1\n",
       "Attendance (tickets sold / available)    3\n",
       "Revenue                                  0\n",
       "Tour                                     0\n",
       "$                                        3\n",
       "ticket sold                              0\n",
       "ticket available                         0\n",
       "dtype: int64"
      ]
     },
     "execution_count": 210,
     "metadata": {},
     "output_type": "execute_result"
    }
   ],
   "source": [
    "swiftdf.isnull().sum()"
   ]
  },
  {
   "cell_type": "code",
   "execution_count": 211,
   "metadata": {},
   "outputs": [
    {
     "data": {
      "text/plain": [
       "3"
      ]
     },
     "execution_count": 211,
     "metadata": {},
     "output_type": "execute_result"
    }
   ],
   "source": [
    "swiftdf['$'].isnull().sum()"
   ]
  },
  {
   "cell_type": "code",
   "execution_count": 212,
   "metadata": {},
   "outputs": [
    {
     "data": {
      "text/html": [
       "<div>\n",
       "<style scoped>\n",
       "    .dataframe tbody tr th:only-of-type {\n",
       "        vertical-align: middle;\n",
       "    }\n",
       "\n",
       "    .dataframe tbody tr th {\n",
       "        vertical-align: top;\n",
       "    }\n",
       "\n",
       "    .dataframe thead th {\n",
       "        text-align: right;\n",
       "    }\n",
       "</style>\n",
       "<table border=\"1\" class=\"dataframe\">\n",
       "  <thead>\n",
       "    <tr style=\"text-align: right;\">\n",
       "      <th></th>\n",
       "      <th>Revenue</th>\n",
       "      <th>ticket sold</th>\n",
       "      <th>ticket available</th>\n",
       "    </tr>\n",
       "  </thead>\n",
       "  <tbody>\n",
       "    <tr>\n",
       "      <th>count</th>\n",
       "      <td>4.450000e+02</td>\n",
       "      <td>445.000000</td>\n",
       "      <td>445.000000</td>\n",
       "    </tr>\n",
       "    <tr>\n",
       "      <th>mean</th>\n",
       "      <td>3.892357e+06</td>\n",
       "      <td>38954.904177</td>\n",
       "      <td>39002.093366</td>\n",
       "    </tr>\n",
       "    <tr>\n",
       "      <th>std</th>\n",
       "      <td>4.131775e+06</td>\n",
       "      <td>33447.651363</td>\n",
       "      <td>33429.123926</td>\n",
       "    </tr>\n",
       "    <tr>\n",
       "      <th>min</th>\n",
       "      <td>1.533030e+05</td>\n",
       "      <td>3421.000000</td>\n",
       "      <td>3962.000000</td>\n",
       "    </tr>\n",
       "    <tr>\n",
       "      <th>25%</th>\n",
       "      <td>1.041935e+06</td>\n",
       "      <td>13952.000000</td>\n",
       "      <td>13952.000000</td>\n",
       "    </tr>\n",
       "    <tr>\n",
       "      <th>50%</th>\n",
       "      <td>2.379870e+06</td>\n",
       "      <td>27877.000000</td>\n",
       "      <td>27877.000000</td>\n",
       "    </tr>\n",
       "    <tr>\n",
       "      <th>75%</th>\n",
       "      <td>4.268678e+06</td>\n",
       "      <td>49464.000000</td>\n",
       "      <td>49464.000000</td>\n",
       "    </tr>\n",
       "    <tr>\n",
       "      <th>max</th>\n",
       "      <td>2.203139e+07</td>\n",
       "      <td>174764.000000</td>\n",
       "      <td>174764.000000</td>\n",
       "    </tr>\n",
       "  </tbody>\n",
       "</table>\n",
       "</div>"
      ],
      "text/plain": [
       "            Revenue    ticket sold  ticket available\n",
       "count  4.450000e+02     445.000000        445.000000\n",
       "mean   3.892357e+06   38954.904177      39002.093366\n",
       "std    4.131775e+06   33447.651363      33429.123926\n",
       "min    1.533030e+05    3421.000000       3962.000000\n",
       "25%    1.041935e+06   13952.000000      13952.000000\n",
       "50%    2.379870e+06   27877.000000      27877.000000\n",
       "75%    4.268678e+06   49464.000000      49464.000000\n",
       "max    2.203139e+07  174764.000000     174764.000000"
      ]
     },
     "execution_count": 212,
     "metadata": {},
     "output_type": "execute_result"
    }
   ],
   "source": [
    "swiftdf.describe()"
   ]
  },
  {
   "cell_type": "code",
   "execution_count": 213,
   "metadata": {},
   "outputs": [
    {
     "name": "stdout",
     "output_type": "stream",
     "text": [
      "<class 'pandas.core.frame.DataFrame'>\n",
      "RangeIndex: 445 entries, 0 to 444\n",
      "Data columns (total 10 columns):\n",
      " #   Column                                 Non-Null Count  Dtype  \n",
      "---  ------                                 --------------  -----  \n",
      " 0   City                                   445 non-null    object \n",
      " 1   Country                                445 non-null    object \n",
      " 2   Venue                                  445 non-null    object \n",
      " 3   Opening act(s)                         444 non-null    object \n",
      " 4   Attendance (tickets sold / available)  442 non-null    object \n",
      " 5   Revenue                                445 non-null    float64\n",
      " 6   Tour                                   445 non-null    object \n",
      " 7   $                                      442 non-null    object \n",
      " 8   ticket sold                            445 non-null    float64\n",
      " 9   ticket available                       445 non-null    float64\n",
      "dtypes: float64(3), object(7)\n",
      "memory usage: 34.9+ KB\n"
     ]
    }
   ],
   "source": [
    "swiftdf.info()"
   ]
  },
  {
   "cell_type": "code",
   "execution_count": 224,
   "metadata": {},
   "outputs": [
    {
     "data": {
      "text/plain": [
       "<Axes: xlabel='Country'>"
      ]
     },
     "execution_count": 224,
     "metadata": {},
     "output_type": "execute_result"
    },
    {
     "data": {
      "image/png": "[encoded data removed]",
      "text/plain": [
       "<Figure size 640x480 with 1 Axes>"
      ]
     },
     "metadata": {},
     "output_type": "display_data"
    }
   ],
   "source": [
    "swiftdf.groupby('Country')['Revenue'].mean().plot(kind=\"bar\")\n"
   ]
  },
  {
   "cell_type": "code",
   "execution_count": 219,
   "metadata": {},
   "outputs": [
    {
     "data": {
      "text/plain": [
       "<Axes: xlabel='Tour'>"
      ]
     },
     "execution_count": 219,
     "metadata": {},
     "output_type": "execute_result"
    },
    {
     "data": {
      "image/png": "[encoded data removed]",
      "text/plain": [
       "<Figure size 640x480 with 1 Axes>"
      ]
     },
     "metadata": {},
     "output_type": "display_data"
    }
   ],
   "source": [
    "swiftdf.groupby('Tour')['ticket sold'].mean().plot(kind=\"bar\")\n"
   ]
  },
  {
   "cell_type": "markdown",
   "metadata": {},
   "source": [
    "save as csv"
   ]
  },
  {
   "cell_type": "code",
   "execution_count": null,
   "metadata": {},
   "outputs": [],
   "source": [
    "swiftdf.to_csv(\"clean_swift.csv\")"
   ]
  },
  {
   "cell_type": "markdown",
   "metadata": {},
   "source": [
    "SQlite3"
   ]
  },
  {
   "cell_type": "code",
   "execution_count": 225,
   "metadata": {},
   "outputs": [
    {
     "name": "stdout",
     "output_type": "stream",
     "text": [
      "2.6.0\n"
     ]
    },
    {
     "name": "stderr",
     "output_type": "stream",
     "text": [
      "/var/folders/x7/2ty286fs747289f1j5ywqzym0000gp/T/ipykernel_69415/1644359053.py:6: DeprecationWarning: version is deprecated and will be removed in Python 3.14\n",
      "  print(sqlite3.version)\n"
     ]
    }
   ],
   "source": [
    "def create_connection(db_file):\n",
    "    \"\"\" create a database connection to a SQLite database \"\"\"\n",
    "    conn = None\n",
    "    try:\n",
    "        conn = sqlite3.connect(db_file)\n",
    "        print(sqlite3.version)\n",
    "    except Error as e:\n",
    "        print(e)\n",
    "    finally:\n",
    "        if conn:\n",
    "            conn.close()\n",
    "\n",
    "\n",
    "if __name__ == '__main__':\n",
    "    create_connection(r\"C:\\sqlite\\db\\pythonsqlite.db\")"
   ]
  },
  {
   "cell_type": "markdown",
   "metadata": {},
   "source": []
  }
 ],
 "metadata": {
  "kernelspec": {
   "display_name": "Python 3",
   "language": "python",
   "name": "python3"
  },
  "language_info": {
   "codemirror_mode": {
    "name": "ipython",
    "version": 3
   },
   "file_extension": ".py",
   "mimetype": "text/x-python",
   "name": "python",
   "nbconvert_exporter": "python",
   "pygments_lexer": "ipython3",
   "version": "3.12.0"
  }
 },
 "nbformat": 4,
 "nbformat_minor": 2
}
