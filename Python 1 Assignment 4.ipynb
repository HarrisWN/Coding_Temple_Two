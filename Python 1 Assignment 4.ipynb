{
 "cells": [
  {
   "attachments": {},
   "cell_type": "markdown",
   "metadata": {},
   "source": [
    "# Coding Temple's Data Analytics Program\n",
    "---\n",
    "## Python Basics Assignment 4\n",
    "---"
   ]
  },
  {
   "attachments": {},
   "cell_type": "markdown",
   "metadata": {},
   "source": [
    "### **Task 1: Update Shopping Cart**\n",
    "Using the shopping cart you created yesterday as a blueprint, create a shopping cart using object-oriented programming. This shopping cart should maintain all functionality that you currently have in your blueprint."
   ]
  },
  {
   "cell_type": "code",
   "execution_count": 132,
   "metadata": {},
   "outputs": [
    {
     "name": "stdout",
     "output_type": "stream",
     "text": [
      "<__main__.ShopppingBag object at 0x10824efc0>\n"
     ]
    }
   ],
   "source": [
    "food_list = []\n",
    "class ShopppingBag:\n",
    "    def __init__(self, food_type):\n",
    "        self.food_type = food_type\n",
    "       \n",
    "    #show food type in cart\n",
    "    def show_shopping_bag(self, food_type) : #self method in function allows the class to take advantage of all the self instances above\n",
    "        print(\"you have items in your bag\")\n",
    "        for food in self.food_type:\n",
    "            print(food_type)\n",
    "\n",
    "    # #method to add food(s) to the item list for the shopping bag:\n",
    "    def add_to_shopping_bag(self, food_type:str):\n",
    "        food_type = input(\"what would you like to add?\")\n",
    "        food_list.append(food_type)\n",
    "        print(food_list)\n",
    "\n",
    "    # #method to delete food(s) from the item list for the shopping bag:\n",
    "    def remove_from_shopping_bag(self, food_type):\n",
    "        for food_type in food_list:\n",
    "            food_type = input(\"what would you like to remove?\")\n",
    "            if food_type not in food_list:\n",
    "                 print(\"{food_type} not in cart\")\n",
    "                 break\n",
    "            else:\n",
    "                food_list.remove(food_type)\n",
    "            print(food_list)\n",
    "            \n",
    "            \n",
    "    # #method to delete food(s) from the item list for the shopping bag:\n",
    "    def clear_cart(self): \n",
    "        self.food_type = []\n",
    "        print(food_list)\n",
    "\n",
    "\n",
    "my_cart= ShopppingBag (\"food_type\")\n",
    "\n",
    "print(my_cart)\n",
    "\n",
    "\n"
   ]
  },
  {
   "cell_type": "code",
   "execution_count": 133,
   "metadata": {},
   "outputs": [
    {
     "name": "stdout",
     "output_type": "stream",
     "text": [
      "[]\n"
     ]
    }
   ],
   "source": [
    "print(food_list)"
   ]
  },
  {
   "cell_type": "code",
   "execution_count": 134,
   "metadata": {},
   "outputs": [
    {
     "name": "stdout",
     "output_type": "stream",
     "text": [
      "['cake']\n"
     ]
    }
   ],
   "source": [
    "my_cart.add_to_shopping_bag(\"food_type\")"
   ]
  },
  {
   "cell_type": "code",
   "execution_count": 135,
   "metadata": {},
   "outputs": [
    {
     "name": "stdout",
     "output_type": "stream",
     "text": [
      "['cake']\n"
     ]
    }
   ],
   "source": [
    "print(food_list)"
   ]
  },
  {
   "cell_type": "code",
   "execution_count": 136,
   "metadata": {},
   "outputs": [
    {
     "name": "stdout",
     "output_type": "stream",
     "text": [
      "['cake', 'peaches']\n"
     ]
    }
   ],
   "source": [
    "my_cart.add_to_shopping_bag(\"food_type\")"
   ]
  },
  {
   "cell_type": "code",
   "execution_count": 137,
   "metadata": {},
   "outputs": [
    {
     "name": "stdout",
     "output_type": "stream",
     "text": [
      "['cake', 'peaches']\n"
     ]
    }
   ],
   "source": [
    "print(food_list)"
   ]
  },
  {
   "cell_type": "code",
   "execution_count": 138,
   "metadata": {},
   "outputs": [
    {
     "name": "stdout",
     "output_type": "stream",
     "text": [
      "['peaches']\n"
     ]
    }
   ],
   "source": [
    "my_cart.remove_from_shopping_bag(\"food_type\") #testing food in cart"
   ]
  },
  {
   "cell_type": "code",
   "execution_count": 139,
   "metadata": {},
   "outputs": [
    {
     "name": "stdout",
     "output_type": "stream",
     "text": [
      "{food_type} not in cart\n"
     ]
    }
   ],
   "source": [
    "my_cart.remove_from_shopping_bag(\"food_type\") #testing food not in cart\n"
   ]
  },
  {
   "cell_type": "code",
   "execution_count": 140,
   "metadata": {},
   "outputs": [
    {
     "data": {
      "text/plain": [
       "<bound method ShopppingBag.clear_cart of <__main__.ShopppingBag object at 0x10824efc0>>"
      ]
     },
     "execution_count": 140,
     "metadata": {},
     "output_type": "execute_result"
    }
   ],
   "source": [
    "my_cart.clear_cart\n"
   ]
  },
  {
   "attachments": {},
   "cell_type": "markdown",
   "metadata": {},
   "source": [
    "### **Task 2: String Class**\n",
    "Write a class which has the following two methods:\n",
    "* `get_string`: Accepts a string input from the user\n",
    "* `print_string`: Prints the string all in upper-case"
   ]
  },
  {
   "cell_type": "code",
   "execution_count": 334,
   "metadata": {},
   "outputs": [
    {
     "name": "stdout",
     "output_type": "stream",
     "text": [
      "hello\n",
      "None\n",
      "HELLO\n",
      "None\n"
     ]
    }
   ],
   "source": [
    "# YOUR CODE HERE\n",
    "class User_methods:\n",
    "     def __init__(self, word_list):\n",
    "          self.word_list = word_list\n",
    "     \n",
    "     def  get_string(self):\n",
    "         string_word_list = str(self.word_list)\n",
    "         print(f\"{string_word_list}\")\n",
    "   \n",
    "     \n",
    "     def  print_string(self):\n",
    "          upper_word_list =  self.word_list.upper()\n",
    "          print(f\"{upper_word_list}\")\n",
    "\n",
    "     \n",
    "\n",
    "my_wordlist = User_methods(\"hello\")\n",
    "print(my_wordlist.get_string())\n",
    "print(my_wordlist.print_string())\n",
    "\n"
   ]
  },
  {
   "attachments": {},
   "cell_type": "markdown",
   "metadata": {},
   "source": [
    "### **Task 3: Activities**\n",
    "Create a class that depicts your favorite activity. Add in attributes that are associated with that activity in you `__init__` call. Also, create three functions that are associated with the activity.\n",
    "\n",
    "**Example:**\n",
    "If I chose football, I may have a FootballPlayer class with attributes such as:\n",
    "* `self.speed`\n",
    "* `self.strength`\n",
    "* `self.position`\n",
    "\n",
    "and methods such as:\n",
    "* `def pass_ball`\n",
    "* `def run`\n",
    "* `def faster_than_x`"
   ]
  },
  {
   "cell_type": "code",
   "execution_count": 57,
   "metadata": {},
   "outputs": [],
   "source": [
    "class Tennis:\n",
    "    def __init__(self, pace, number_sets:int, doubles:bool, ball:int):\n",
    "        self.pace = pace\n",
    "        self.number_sets = number_sets\n",
    "        self.doubles = doubles\n",
    "        self.ball = ball\n",
    "\n",
    "\n",
    "\n"
   ]
  },
  {
   "attachments": {},
   "cell_type": "markdown",
   "metadata": {},
   "source": [
    "### **Task 4: Test Your Class!**\n",
    "Now that you created your class, let's create an instance of your class. In the cell below, instantiate a Class Object, then test each of your class methods on that object."
   ]
  },
  {
   "cell_type": "code",
   "execution_count": 56,
   "metadata": {},
   "outputs": [
    {
     "data": {
      "text/plain": [
       "The game of tennis is a (kind) fast paced and there are 3 sets. You can play doubles True with 1 ball"
      ]
     },
     "execution_count": 56,
     "metadata": {},
     "output_type": "execute_result"
    }
   ],
   "source": [
    "class Tennis:\n",
    "    def __init__(self, pace, number_sets:int, doubles:bool, ball:int):\n",
    "        self.pace = pace\n",
    "        self.number_sets = number_sets\n",
    "        self.doubles = doubles\n",
    "        self.ball = ball\n",
    "\n",
    "    def __repr__(self):\n",
    "        return f'The game of tennis is a (kind) {self.pace} paced and there are {self.number_sets} sets. You can play doubles {self.doubles} with {self.ball} ball'\n",
    "    \n",
    "my_sport = Tennis(\"fast\", 3, True, 1)\n",
    "my_sport"
   ]
  },
  {
   "cell_type": "code",
   "execution_count": 332,
   "metadata": {},
   "outputs": [
    {
     "name": "stdout",
     "output_type": "stream",
     "text": [
      "Gauff is currently winning\n",
      "None\n",
      "Wimbledon is currently being played\n",
      "None\n"
     ]
    }
   ],
   "source": [
    "class TennisTwo:\n",
    "    def __init__(self, name, competion):\n",
    "        self.name = name\n",
    "        self.competition = competion\n",
    "\n",
    "    def  match_status(self):\n",
    "        print(f\"{self.name} is currently winning\")\n",
    "\n",
    "    def  what_comp(self):\n",
    "        print(f\"{self.competition} is currently being played\")\n",
    "    \n",
    "\n",
    "Todays_Match = TennisTwo( \"Gauff\", \"Wimbledon\")\n",
    "\n",
    "print(Todays_Match.match_status())\n",
    "\n",
    "print(Todays_Match.what_comp())\n",
    "\n"
   ]
  }
 ],
 "metadata": {
  "kernelspec": {
   "display_name": "Python 3",
   "language": "python",
   "name": "python3"
  },
  "language_info": {
   "codemirror_mode": {
    "name": "ipython",
    "version": 3
   },
   "file_extension": ".py",
   "mimetype": "text/x-python",
   "name": "python",
   "nbconvert_exporter": "python",
   "pygments_lexer": "ipython3",
   "version": "3.12.0"
  },
  "orig_nbformat": 4,
  "vscode": {
   "interpreter": {
    "hash": "26de051ba29f2982a8de78e945f0abaf191376122a1563185a90213a26c5da77"
   }
  }
 },
 "nbformat": 4,
 "nbformat_minor": 2
}
